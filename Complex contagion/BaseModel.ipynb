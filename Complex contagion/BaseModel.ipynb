{
 "cells": [
  {
   "cell_type": "markdown",
   "metadata": {},
   "source": [
    "## 1 - Testing Batch Run with different average neighbors"
   ]
  },
  {
   "cell_type": "code",
   "execution_count": null,
   "metadata": {},
   "outputs": [],
   "source": [
    "from model import *\n",
    "from batchrun import *"
   ]
  },
  {
   "cell_type": "code",
   "execution_count": null,
   "metadata": {},
   "outputs": [],
   "source": [
    "model = InfoSpread (num_nodes=1000, avg_node_degree=2, rewire_prob=.3, initial_outbreak_size=2, threshold = 3,)\n",
    "#num_nodes=10, avg_node_degree=3, rewire_prob=.1, initial_outbreak_size=1, threshold = 2\n",
    "for i in range(100):\n",
    "    model.step()"
   ]
  },
  {
   "cell_type": "code",
   "execution_count": null,
   "metadata": {},
   "outputs": [],
   "source": [
    "df = model.datacollector.get_model_vars_dataframe()\n",
    "df"
   ]
  },
  {
   "cell_type": "code",
   "execution_count": null,
   "metadata": {},
   "outputs": [],
   "source": [
    "model = InfoSpread (num_nodes=1000, avg_node_degree=3, rewire_prob=.3, initial_outbreak_size=1, threshold = 2,)\n",
    "total_inf = [-1, 0] #buffer item\n",
    "total_inf.append(number_infected(model))\n",
    "while( total_inf[len(total_inf)-1] != total_inf[len(total_inf)-2] ):\n",
    "    model.step()\n",
    "    total_inf.append(number_infected(model))"
   ]
  },
  {
   "cell_type": "code",
   "execution_count": null,
   "metadata": {},
   "outputs": [],
   "source": [
    "df = model.datacollector.get_model_vars_dataframe()\n",
    "df"
   ]
  },
  {
   "cell_type": "code",
   "execution_count": null,
   "metadata": {},
   "outputs": [],
   "source": [
    "inf_count = []\n",
    "state_color = []\n",
    "for i in model.grid.get_cell_list_contents(model.G):\n",
    "    inf_count.append(i.get_infected_neighbor_count())\n",
    "    state = i.state\n",
    "    if state == 1:\n",
    "        state_color.append('#ED553B') # red\n",
    "    elif state == -1:\n",
    "        state_color.append('#3CAEA3') # green\n",
    "    else:\n",
    "        state_color.append('#F6D55C') #yellow       \n",
    "        \n",
    "inf_dic =  {}\n",
    "for i in range(model.num_nodes):\n",
    "    inf_dic.update({i:(str(i),inf_count[i])})"
   ]
  },
  {
   "cell_type": "code",
   "execution_count": null,
   "metadata": {},
   "outputs": [],
   "source": [
    "nx.draw_kamada_kawai(model.G, node_size=300,node_color=state_color, labels=inf_dic, alpha = 0.8)  "
   ]
  },
  {
   "cell_type": "code",
   "execution_count": null,
   "metadata": {},
   "outputs": [],
   "source": []
  },
  {
   "cell_type": "code",
   "execution_count": null,
   "metadata": {},
   "outputs": [],
   "source": []
  },
  {
   "cell_type": "code",
   "execution_count": null,
   "metadata": {},
   "outputs": [],
   "source": []
  },
  {
   "cell_type": "code",
   "execution_count": null,
   "metadata": {},
   "outputs": [],
   "source": []
  },
  {
   "cell_type": "code",
   "execution_count": null,
   "metadata": {},
   "outputs": [],
   "source": []
  },
  {
   "cell_type": "code",
   "execution_count": null,
   "metadata": {},
   "outputs": [],
   "source": [
    "#num_nodes=10, avg_node_degree=3, rewire_prob=.1, initial_outbreak_size=1, threshold = 2\n",
    "rewire_list = []\n",
    "for i in range(21):\n",
    "    rewire_list.append(round((i*0.05),3))\n",
    "#rewire_list = [0, 0.1, 0.2, 0.3]\n",
    "\n",
    "fixed_params = {\"rewire_prob\":0.15,\n",
    "                \"num_nodes\": 80,\n",
    "               \"initial_outbreak_size\" : 1,\n",
    "                \"threshold\" : 2\n",
    "                }\n",
    "variable_params = {\"avg_node_degree\": range(2,20)\n",
    "                  \n",
    "                  }  #  {\"rewire_prob\": range(0.05, 1.0, 0.05)}\n",
    "\n",
    "batch_run = BatchRunner(InfoSpread,\n",
    "                        variable_params,\n",
    "                        fixed_params,\n",
    "                        iterations=5,\n",
    "                        max_steps=10,\n",
    "                        model_reporters={\"infection_list\": infected_list})\n",
    "batch_run.run_all()"
   ]
  },
  {
   "cell_type": "code",
   "execution_count": null,
   "metadata": {},
   "outputs": [],
   "source": [
    "run_data = batch_run.get_model_vars_dataframe()"
   ]
  },
  {
   "cell_type": "code",
   "execution_count": null,
   "metadata": {},
   "outputs": [],
   "source": [
    "x = run_data['avg_node_degree'].values.tolist()\n",
    "time = calculate_infection_time(run_data)\n",
    "plt.plot(x,time,'o', color = '#3CAEA3', alpha = 0.3)\n",
    "plt.xlabel(\"average node degree\")\n",
    "plt.ylabel(\"steps to infect network\")\n",
    "plt.title(\"control rewire prob = 0.15, treshoud = 2, outbreak size = 2,\")\n",
    "plt.xticks(x)\n",
    "plt.show()"
   ]
  },
  {
   "cell_type": "code",
   "execution_count": null,
   "metadata": {},
   "outputs": [],
   "source": [
    "x = run_data['avg_node_degree'].values.tolist()\n",
    "inf = calculate_total_infection(run_data)\n",
    "plt.plot(x,inf,'o', color = '#3CAEA3', alpha = 0.3)\n",
    "plt.xlabel(\"average node degree\")\n",
    "plt.ylabel(\"total infection\")\n",
    "plt.title(\"control rewire prob = 0.15, treshoud = 2, outbreak size = 2,\")\n",
    "plt.xticks(x)\n",
    "plt.show()"
   ]
  },
  {
   "cell_type": "markdown",
   "metadata": {},
   "source": [
    "### 2.3 Testing batch run with changing rewireing factor"
   ]
  },
  {
   "cell_type": "code",
   "execution_count": null,
   "metadata": {},
   "outputs": [],
   "source": [
    "#batch running test 2\n",
    "from mesa.batchrunner import BatchRunner\n",
    "\n",
    "#num_nodes=10, avg_node_degree=3, rewire_prob=.1, initial_outbreak_size=1, threshold = 2\n",
    "rewire_list = []\n",
    "for i in range(21):\n",
    "    rewire_list.append(round((i*0.05),3))\n",
    "#rewire_list = [0, 0.1, 0.2, 0.3]\n",
    "\n",
    "fixed_params = {\"num_nodes\": 80,\n",
    "               \"avg_node_degree\": 8,\n",
    "               \"initial_outbreak_size\" : 1,\n",
    "               \"threshold\" : 2}\n",
    "variable_params = {\"rewire_prob\": rewire_list}  #  {\"rewire_prob\": drange(0.05, 1.0, 0.05)}\n",
    "\n",
    "batch_run = BatchRunner(InfoSpread,\n",
    "                        variable_params,\n",
    "                        fixed_params,\n",
    "                        iterations=5,\n",
    "                        max_steps=10,\n",
    "                        model_reporters={\"infection_list\": infected_list})\n",
    "batch_run.run_all()"
   ]
  },
  {
   "cell_type": "code",
   "execution_count": null,
   "metadata": {},
   "outputs": [],
   "source": [
    "run_data = batch_run.get_model_vars_dataframe()\n",
    "#run_data"
   ]
  },
  {
   "cell_type": "code",
   "execution_count": null,
   "metadata": {},
   "outputs": [],
   "source": [
    "import matplotlib.pyplot as plt\n",
    "import numpy"
   ]
  },
  {
   "cell_type": "code",
   "execution_count": null,
   "metadata": {},
   "outputs": [],
   "source": [
    "\n",
    "x = run_data['rewire_prob'].values.tolist()\n",
    "time = calculate_infection_time(run_data)\n",
    "plt.plot(x,time,'o', color = '#3CAEA3',alpha = 0.3)"
   ]
  },
  {
   "cell_type": "code",
   "execution_count": null,
   "metadata": {},
   "outputs": [],
   "source": [
    "inf = calculate_total_infection(run_data)\n",
    "plt.plot(x,inf,'o', color = '#ED553B', alpha = 0.3)"
   ]
  },
  {
   "cell_type": "markdown",
   "metadata": {},
   "source": [
    "### 3 - Centola Replication"
   ]
  },
  {
   "cell_type": "code",
   "execution_count": null,
   "metadata": {
    "jupyter": {
     "source_hidden": true
    }
   },
   "outputs": [],
   "source": [
    "from mesa.batchrunner import BatchRunner"
   ]
  },
  {
   "cell_type": "code",
   "execution_count": null,
   "metadata": {
    "jupyter": {
     "source_hidden": true
    }
   },
   "outputs": [],
   "source": [
    "#num_nodes=40000, avg_node_degree=8, rewire_prob=a changing, initial_outbreak_size=1, threshold = 3\n",
    "rewire_list = []\n",
    "for i in range(201):\n",
    "    rewire_list.append(round((i*0.005),4))\n",
    "\n",
    "fixed_params = {\"avg_node_degree\":8,\n",
    "                \"num_nodes\": 40,\n",
    "               \"initial_outbreak_size\" : 1,\n",
    "                \"threshold\" : 3\n",
    "                }\n",
    "variable_params = {\n",
    "                      \"rewire_prob\": [0.000001, 0.00001,0.0001,0.001,0.01,0.1,1]\n",
    "                  }  #  {\"rewire_prob\": range(0.05, 1.0, 0.05)}\n",
    "\n",
    "batch_run = BatchRunner(InfoSpread,\n",
    "                        variable_params,\n",
    "                        fixed_params,\n",
    "                        iterations=1,\n",
    "                        max_steps=10,\n",
    "                        model_reporters={\"infection_list\": infected_list})\n",
    "batch_run.run_all()"
   ]
  },
  {
   "cell_type": "code",
   "execution_count": null,
   "metadata": {
    "jupyter": {
     "source_hidden": true
    }
   },
   "outputs": [],
   "source": [
    "run_data = batch_run.get_model_vars_dataframe()\n",
    "run_data"
   ]
  },
  {
   "cell_type": "code",
   "execution_count": null,
   "metadata": {
    "jupyter": {
     "source_hidden": true
    }
   },
   "outputs": [],
   "source": [
    "time = calculate_infection_time(run_data)"
   ]
  },
  {
   "cell_type": "code",
   "execution_count": null,
   "metadata": {
    "jupyter": {
     "source_hidden": true
    }
   },
   "outputs": [],
   "source": [
    "time"
   ]
  },
  {
   "cell_type": "code",
   "execution_count": null,
   "metadata": {
    "jupyter": {
     "source_hidden": true
    }
   },
   "outputs": [],
   "source": [
    "plt.plot(run_data.rewire_prob,time,'o', color = '#3CAEA3', alpha = 0.3)\n",
    "plt.xscale('log')\n",
    "plt.show()"
   ]
  },
  {
   "cell_type": "code",
   "execution_count": null,
   "metadata": {
    "jupyter": {
     "source_hidden": true
    }
   },
   "outputs": [],
   "source": [
    "import matplotlib.pyplot as plt"
   ]
  },
  {
   "cell_type": "code",
   "execution_count": null,
   "metadata": {
    "jupyter": {
     "source_hidden": true
    }
   },
   "outputs": [],
   "source": [
    "x = run_data.rewire_prob\n",
    "time = calculate_infection_time(run_data)\n",
    "plt.plot(x,time,'o', color = '#3CAEA3', alpha = 0.3)\n",
    "plt.xlabel(\"rewiring probability\")\n",
    "plt.ylabel(\"steps to infect network\")\n",
    "plt.title(\"40 agents, 8 avergae neighbors, 3 treshold\")\n",
    "plt.xticks(x)\n",
    "plt.xscale('log')\n",
    "plt.show()"
   ]
  },
  {
   "cell_type": "code",
   "execution_count": null,
   "metadata": {
    "jupyter": {
     "source_hidden": true
    }
   },
   "outputs": [],
   "source": [
    "x = run_data['rewire_prob'].values.tolist()\n",
    "inf = calculate_total_infection(run_data)\n",
    "plt.plot(x,inf,'o', color = '#3CAEA3', alpha = 0.3)\n",
    "plt.xlabel(\"average node degree\")\n",
    "plt.ylabel(\"total infection\")\n",
    "plt.title(\"control rewire prob = 0.15, treshoud = 2, outbreak size = 2,\")\n",
    "plt.xticks(x)\n",
    "plt.xscale('log')\n",
    "plt.show()"
   ]
  },
  {
   "cell_type": "code",
   "execution_count": null,
   "metadata": {
    "jupyter": {
     "source_hidden": true
    }
   },
   "outputs": [],
   "source": [
    "#num_nodes=240000, avg_node_degree=48, rewire_prob=a changing, initial_outbreak_size=1, threshold = 19\n",
    "rewire_list = []\n",
    "for i in range(21):\n",
    "    rewire_list.append(round((i*0.05),3))\n",
    "#rewire_list = [0, 0.1, 0.2, 0.3]\n",
    "\n",
    "fixed_params = {\"rewire_prob\":0.15,\n",
    "                \"num_nodes\": 80,\n",
    "               \"initial_outbreak_size\" : 1,\n",
    "                \"threshold\" : 2\n",
    "                }\n",
    "variable_params = {\"avg_node_degree\": range(2,20)\n",
    "                  \n",
    "                  }  #  {\"rewire_prob\": range(0.05, 1.0, 0.05)}\n",
    "\n",
    "batch_run = BatchRunner(InfoSpread,\n",
    "                        variable_params,\n",
    "                        fixed_params,\n",
    "                        iterations=5,\n",
    "                        max_steps=10,\n",
    "                        model_reporters={\"infection_list\": infected_list})\n",
    "batch_run.run_all()"
   ]
  },
  {
   "cell_type": "markdown",
   "metadata": {},
   "source": [
    "## 4 & 5 Defining variables, design and experiment with server"
   ]
  },
  {
   "cell_type": "markdown",
   "metadata": {},
   "source": [
    "### 5.1 Server"
   ]
  },
  {
   "cell_type": "code",
   "execution_count": null,
   "metadata": {
    "jupyter": {
     "source_hidden": true
    }
   },
   "outputs": [],
   "source": [
    "import math\n",
    "\n",
    "from mesa.visualization.ModularVisualization import ModularServer\n",
    "from mesa.visualization.UserParam import UserSettableParameter\n",
    "from mesa.visualization.modules import ChartModule\n",
    "from mesa.visualization.modules import NetworkModule\n",
    "from mesa.visualization.modules import TextElement\n",
    "# from .model import InfoSpread, number_infected\n",
    "\n",
    "\n",
    "def network_portrayal(G):\n",
    "    # The model ensures there is always 1 agent per node\n",
    "\n",
    "    def node_color(agent):\n",
    "        if agent.state == \"infected\":\n",
    "            return \"#FF0000\"\n",
    "        elif agent.state == 'susceptible':\n",
    "            return \"#008000\"\n",
    "\n",
    "    def edge_color(agent1, agent2):\n",
    "        if \"resistant\" in (agent1.state, agent2.state):\n",
    "            return \"#000000\"\n",
    "        return \"#e8e8e8\"\n",
    "\n",
    "    def edge_width(agent1, agent2):\n",
    "        if \"resistant\" in (agent1.state, agent2.state):\n",
    "            return 3\n",
    "        return 2\n",
    "\n",
    "    def get_agents(source, target):\n",
    "        return G.nodes[source][\"agent\"][0], G.nodes[target][\"agent\"][0]\n",
    "\n",
    "    portrayal = dict()\n",
    "    portrayal[\"nodes\"] = [\n",
    "        {\n",
    "            \"size\": 6,\n",
    "            \"color\": node_color(agents[0]),\n",
    "            \"tooltip\": \"id: {}<br>state: {}\".format(\n",
    "                agents[0].unique_id, agents[0].state\n",
    "            ),\n",
    "        }\n",
    "        for (_, agents) in G.nodes.data(\"agent\")\n",
    "    ]\n",
    "\n",
    "    portrayal[\"edges\"] = [\n",
    "        {\n",
    "            \"source\": source,\n",
    "            \"target\": target,\n",
    "            \"color\": edge_color(*get_agents(source, target)),\n",
    "            \"width\": edge_width(*get_agents(source, target)),\n",
    "        }\n",
    "        for (source, target) in G.edges\n",
    "    ]\n",
    "\n",
    "    return portrayal\n",
    "\n",
    "\n",
    "network = NetworkModule(network_portrayal, 500, 500, library=\"d3\")\n",
    "chart = ChartModule(\n",
    "    [\n",
    "        {\"Label\": \"Infected\", \"Color\": \"#FF0000\"},\n",
    "        {\"Label\": \"Susceptible\", \"Color\": \"#008000\"},\n",
    "        {\"Label\": \"Resistant\", \"Color\": \"#808080\"},\n",
    "    ]\n",
    ")\n",
    "\n",
    "\n",
    "class MyTextElement(TextElement):\n",
    "    def render(self, model):\n",
    "        ratio = model.proportion_infected()\n",
    "        ratio_text = \"&infin;\" if ratio is math.inf else \"{0:.2f}\".format(ratio)\n",
    "        infected_text = number_infected(model)\n",
    "\n",
    "        return \"Proportion Infected: {}<br>Infected: {}\".format(\n",
    "            ratio_text, infected_text\n",
    "        )\n",
    "\n",
    "\n",
    "model_params = {\n",
    "    \"num_nodes\": UserSettableParameter(\n",
    "        \"slider\",\n",
    "        \"Number of agents\",\n",
    "        10,\n",
    "        10,\n",
    "        100,\n",
    "        1,\n",
    "        description=\"Choose how many agents to include in the model\",\n",
    "    ),\n",
    "    \n",
    "    \"avg_node_degree\": UserSettableParameter(\n",
    "        \"slider\", \"Avg Node Degree\", 4, 2, 8, 2, description=\"Avg Node Degree\"\n",
    "    ),\n",
    "    \n",
    "    \"rewire_prob\": UserSettableParameter(\n",
    "        \"slider\",\n",
    "        \"Rewire Probability\",\n",
    "        .1,\n",
    "        0,\n",
    "        1,\n",
    "        .05,\n",
    "        description = \"Rewire probability\"),\n",
    "    \n",
    "    \"initial_outbreak_size\": UserSettableParameter(\n",
    "        \"slider\",\n",
    "        \"Initial Outbreak Size\",\n",
    "        1,\n",
    "        1,\n",
    "        5,\n",
    "        1,\n",
    "        description=\"Initial Outbreak Size\",\n",
    "    ),\n",
    "    \"threshold\": UserSettableParameter(\n",
    "        \"slider\",\n",
    "        \"Neighbor Threshold\",\n",
    "        2,\n",
    "        1,\n",
    "        5,\n",
    "        1,\n",
    "        description=\"Neighbor Threshold\",\n",
    "    )\n",
    "}\n",
    "\n",
    "server = ModularServer(\n",
    "    InfoSpread, [network, MyTextElement(), chart], \"Complex Contagion Model\", model_params\n",
    ")\n",
    "server.port = 8521\n",
    "\n"
   ]
  },
  {
   "cell_type": "code",
   "execution_count": null,
   "metadata": {},
   "outputs": [],
   "source": [
    "#testing visualizing charts in a server\n",
    "from mesa.visualization.modules import ChartModule\n",
    "from mesa.visualization.ModularVisualization import ModularServer\n",
    "from model import InfoSpread, number_infected\n",
    "from mesa.visualization.modules import TextElement\n",
    "\n",
    "\n"
   ]
  },
  {
   "cell_type": "code",
   "execution_count": null,
   "metadata": {},
   "outputs": [],
   "source": [
    "class MyTextElement(TextElement):\n",
    "    def render(self, model):\n",
    "        ratio = model.proportion_infected()\n",
    "        ratio_text = \"&infin;\" if ratio is math.inf else \"{0:.2f}\".format(ratio)\n",
    "        infected_text = number_infected(model)\n",
    "\n",
    "        return \"Proportion Infected: {}<br>Infected: {}\".format(\n",
    "            ratio_text, infected_text\n",
    "        )"
   ]
  },
  {
   "cell_type": "code",
   "execution_count": null,
   "metadata": {},
   "outputs": [],
   "source": [
    "chart = ChartModule([\n",
    "        {\"Label\": \"Infected\", \"Color\": \"#FF0000\"},\n",
    "        {\"Label\": \"Susceptible\", \"Color\": \"#008000\"},\n",
    "        {\"Label\": \"Resistant\", \"Color\": \"#808080\"},\n",
    "    ])\n",
    "\n",
    "server = ModularServer(InfoSpread,\n",
    "                       [ MyTextElement(), chart],\n",
    "                       \"Complex Comtagion Batch Run\")"
   ]
  },
  {
   "cell_type": "code",
   "execution_count": null,
   "metadata": {},
   "outputs": [],
   "source": [
    "server.port = 8521 # The default\n",
    "server.launch()"
   ]
  },
  {
   "cell_type": "markdown",
   "metadata": {},
   "source": [
    "## 6 - Impliment one intervention\n"
   ]
  },
  {
   "cell_type": "code",
   "execution_count": null,
   "metadata": {},
   "outputs": [],
   "source": []
  },
  {
   "cell_type": "markdown",
   "metadata": {},
   "source": [
    "## Legacy code"
   ]
  },
  {
   "cell_type": "code",
   "execution_count": null,
   "metadata": {},
   "outputs": [],
   "source": [
    "#define a better range function\n",
    "def drange(x, y, jump):\n",
    "  while x < y:\n",
    "    yield round(float(x),2)\n",
    "    x += jump"
   ]
  }
 ],
 "metadata": {
  "kernelspec": {
   "display_name": "Python 3.9.1 64-bit ('social-computing-ABM': conda)",
   "name": "python391jvsc74a57bd06bd348733a09a3a2887958b5eaeef64613595526374dec9b9bd8e135328bc26a"
  },
  "language_info": {
   "codemirror_mode": {
    "name": "ipython",
    "version": 3
   },
   "file_extension": ".py",
   "mimetype": "text/x-python",
   "name": "python",
   "nbconvert_exporter": "python",
   "pygments_lexer": "ipython3",
   "version": "3.9.1"
  }
 },
 "nbformat": 4,
 "nbformat_minor": 4
}