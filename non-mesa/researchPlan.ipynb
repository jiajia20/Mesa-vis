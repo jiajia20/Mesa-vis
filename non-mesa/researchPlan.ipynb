{
 "cells": [
  {
   "cell_type": "markdown",
   "metadata": {},
   "source": [
    "# Research Plan\n",
    "## To do\n",
    "- [x] build initial WS graph\n",
    "- [x] design the agent\n",
    "- [x]design how information pass (currently undirected)\n",
    "iterate with 1)differnt patient zero/patient zero group 2)different contagence 3)different network\n",
    "robostness 1)noise 2)different position \n"
   ]
  },
  {
   "cell_type": "markdown",
   "metadata": {},
   "source": [
    "## Stage One the most simple model\n",
    "\n",
    "### Mechanism \n",
    "1. generate simple WS graph\n",
    "2. seed a agent and all* its neighbor \n",
    "3. spead step\n",
    "    1) check the infected neighbors \n",
    "    2) sum up infection number \n",
    "    3) if inf >= tresh then alpha chance getting infected  ->  we assume this is propensity to reshare \n",
    "    4) no random noise*, no linear or nonlinear recovery*, no heterogeniety in treshold*, no immunity*\n",
    "4. since there's only one information being passed around and there's no recovery, the information will eventually spread the whole network and we measure the time\n",
    "   1) measure the propotion of infected after time t\n",
    "   2) if every one get infected, when (speed)"
   ]
  },
  {
   "cell_type": "markdown",
   "metadata": {},
   "source": [
    "## Complex mechanism\n",
    "1. from infection to sharing\n",
    "2. different type of randomness\n",
    "    1) normal distribution, long tail ... (need papers to support)\n",
    "    2) no random noise\n",
    "    3) no linear or nonlinear recovery\n",
    "3. herogeniety in agents:\n",
    "    1) heterogeniety in treshold,\n",
    "    2) immunity\n",
    "    \n",
    "    \n",
    " --- so far everything assume random distribution -----\n",
    " \n",
    " 1. agents gave x% chance of randomly changing their belief between 0 and 1\n",
    " 2. recovery - after x round, agents automatically switch back from 1 to 0\n",
    " 3. competing information (how to model it?)\n",
    " 4. give agents different treshold (can be hard to back by literature tho)"
   ]
  },
  {
   "cell_type": "code",
   "execution_count": null,
   "metadata": {},
   "outputs": [],
   "source": []
  },
  {
   "cell_type": "raw",
   "metadata": {},
   "source": []
  }
 ],
 "metadata": {
  "kernelspec": {
   "display_name": "Python 3.8.5 64-bit ('base': conda)",
   "name": "python385jvsc74a57bd0e995772302803cadba3e027c4ca82346d37314f58c6f393b5279d57f647d0ee7"
  },
  "language_info": {
   "name": "python",
   "version": ""
  },
  "orig_nbformat": 2
 },
 "nbformat": 4,
 "nbformat_minor": 2
}