{
 "cells": [
  {
   "cell_type": "markdown",
   "metadata": {},
   "source": [
    "Explore mechanism"
   ]
  },
  {
   "cell_type": "markdown",
   "metadata": {},
   "source": [
    "## 1 - Mechaism exploration\n",
    "- [] run 5-10 time exploratory: relationship between \n",
    "        iv: agent number/average neighbor ; dv percentage infected\n",
    "        iv: re-wireing factor (->clustering co-efficient) +  dv: and infection time \n",
    "- [] noise, sentivity\n"
   ]
  },
  {
   "cell_type": "code",
   "execution_count": 280,
   "metadata": {},
   "outputs": [
    {
     "data": {
      "text/plain": [
       "(0.04, 0.05019999999999997)"
      ]
     },
     "execution_count": 280,
     "metadata": {},
     "output_type": "execute_result"
    }
   ],
   "source": [
    "#intial condition for  iv: agent number/average neighbor ; dv percentage infected\n",
    "agent_num = 100\n",
    "average_neighbor = 4\n",
    "agent_neighbor = average_neighbor/agent_num\n",
    "\n",
    "rounds = []\n",
    "inf_percentage = []\n",
    "for i in range (100):\n",
    "    inf = batch_run(agent_num, average_neighbor,0.6, 0.8, 2)[0]\n",
    "    #find out how many round\n",
    "    round_num = len(inf)-1\n",
    "    rounds.append(round_num)\n",
    "    #find out percentage\n",
    "    largest_inf = inf[len(inf)-1]\n",
    "    percentage= largest_inf/100 #we have 100 agent right now\n",
    "    inf_percentage.append(percentage)\n",
    "\n",
    "avg_pct_inf= sum(inf_percentage)/len(inf_percentage)\n",
    "\n",
    "(agent_neighbor,avg_pct_inf)"
   ]
  },
  {
   "cell_type": "code",
   "execution_count": 307,
   "metadata": {},
   "outputs": [],
   "source": [
    "#run 20 times of the  iv: agent number/average neighbor ; dv percentage infected and have scatter plot\n",
    "import random\n",
    "\n",
    "def explore_percentage_infected():\n",
    "    agent_neighbor_list = []\n",
    "    avg_pct_inf_list = []\n",
    "    \n",
    "    for i in range(10):\n",
    "        agent_num = 100\n",
    "        average_neighbor = random.randint(1,101)\n",
    "        agent_neighbor = average_neighbor/agent_num\n",
    "        \n",
    "        rounds = []\n",
    "        inf_percentage = []\n",
    "        \n",
    "        for i in range (100):\n",
    "            inf = batch_run(agent_num, average_neighbor,0.6, 0.8, 2)[0]\n",
    "            #find out how many round\n",
    "            round_num = len(inf)-1\n",
    "            rounds.append(round_num)\n",
    "            #find out percentage\n",
    "            largest_inf = inf[len(inf)-1]\n",
    "            percentage= largest_inf/100 #we have 100 agent right now\n",
    "            inf_percentage.append(percentage)\n",
    "\n",
    "            avg_pct_inf= sum(inf_percentage)/len(inf_percentage)\n",
    "\n",
    "            agent_neighbor_list.append(agent_neighbor)\n",
    "            avg_pct_inf_list.append(avg_pct_inf)\n",
    "        \n",
    "    return(agent_neighbor_list,avg_pct_inf_list)"
   ]
  },
  {
   "cell_type": "code",
   "execution_count": 305,
   "metadata": {},
   "outputs": [
    {
     "data": {
      "image/png": "[encoded data removed]",
      "text/plain": [
       "<Figure size 432x288 with 1 Axes>"
      ]
     },
     "metadata": {
      "needs_background": "light"
     },
     "output_type": "display_data"
    }
   ],
   "source": [
    "lis = explore_percentage_infected()\n",
    "\n",
    "plt.plot(lis[0], lis[1], 'o', color='black'); "
   ]
  },
  {
   "cell_type": "code",
   "execution_count": 308,
   "metadata": {},
   "outputs": [
    {
     "data": {
      "image/png": "[encoded data removed]",
      "text/plain": [
       "<Figure size 432x288 with 1 Axes>"
      ]
     },
     "metadata": {
      "needs_background": "light"
     },
     "output_type": "display_data"
    }
   ],
   "source": [
    "lis = explore_percentage_infected()\n",
    "\n",
    "plt.plot(lis[0], lis[1], 'o', color='black'); "
   ]
  },
  {
   "cell_type": "code",
   "execution_count": null,
   "metadata": {},
   "outputs": [],
   "source": [
    "# second iv: re-wireing factor (->clustering co-efficient) +  dv: and infection time "
   ]
  },
  {
   "cell_type": "code",
   "execution_count": null,
   "metadata": {},
   "outputs": [],
   "source": []
  },
  {
   "cell_type": "markdown",
   "metadata": {},
   "source": []
  },
  {
   "cell_type": "markdown",
   "metadata": {},
   "source": [
    "# Appendix - legacy code"
   ]
  },
  {
   "cell_type": "markdown",
   "metadata": {},
   "source": [
    "## 1- batch run code"
   ]
  },
  {
   "cell_type": "code",
   "execution_count": 10,
   "metadata": {},
   "outputs": [],
   "source": [
    "\n",
    "\n",
    "def run_rumor_simulation(network_size = 100 ,average_path=10,rewire=0.6, patient_zero_percentage=1,treshold_index=2):\n",
    "    ########## making graph ###########\n",
    "    #make a graph\n",
    "    ws = ns.make_ws_graph(network_size,average_path,rewire)\n",
    "    #initialize a network of agent\n",
    "    ws_di = initialize_network_agent(ws)\n",
    "    #initialize treshold\n",
    "    \n",
    "    for i in range(network_size):\n",
    "        ws_di.get(i).change_tresh(treshold_index)\n",
    "    \n",
    "    #seed the rumor\n",
    "    initialize_patient_zero(ws,ws_di,patient_zero_percentage)\n",
    "    #initial infection\n",
    "    tot_inf = 0\n",
    "    for i in range(len(ws_di)):\n",
    "        tot_inf += ws_di.get(i).infected \n",
    "\n",
    "    #total infection\n",
    "    tot_inf_list = []\n",
    "    rounds_list = []\n",
    "    rounds = 0\n",
    "    tot_inf_list.append(tot_inf)\n",
    "    rounds_list.append(rounds)\n",
    "    \n",
    "    # have to run two rounds first\n",
    "    for i in range(2):\n",
    "        tot_inf = 0 #reset\n",
    "        step(ws,ws_di)\n",
    "        for i in range(len(ws_di)):\n",
    "            tot_inf += ws_di.get(i).infected    \n",
    "        rounds += 1\n",
    "        tot_inf_list.append(tot_inf)\n",
    "        rounds_list.append(rounds)    \n",
    "        \n",
    "    # end if no more infection are detected\n",
    "    while (tot_inf != tot_inf_list[len(tot_inf_list)-2] ):#if the last two elements are not the same, keep looping\n",
    "        tot_inf = 0 #reset\n",
    "        for i in range(len(ws_di)):\n",
    "            tot_inf += ws_di.get(i).infected    \n",
    "        step(ws,ws_di)\n",
    "        rounds += 1\n",
    "        tot_inf_list.append(tot_inf)\n",
    "        rounds_list.append(rounds)\n",
    "        \n",
    "    return(tot_inf_list, rounds_list)"
   ]
  },
  {
   "cell_type": "code",
   "execution_count": 36,
   "metadata": {},
   "outputs": [
    {
     "data": {
      "text/plain": [
       "([10, 28, 92, 92], [0, 1, 2, 3])"
      ]
     },
     "execution_count": 36,
     "metadata": {},
     "output_type": "execute_result"
    }
   ],
   "source": [
    "run_rumor_simulation(100,15,0.6,0.8,2)"
   ]
  },
  {
   "cell_type": "markdown",
   "metadata": {},
   "source": [
    "## 2 - whole network proprage"
   ]
  },
  {
   "cell_type": "code",
   "execution_count": null,
   "metadata": {},
   "outputs": [],
   "source": [
    "def propage(network, directory):\n",
    "    for i in range(len(directory)):\n",
    "        agent = directory.get(i)\n",
    "        if agent.infected == 0:\n",
    "            neighbors = [n for n in network.neighbors(i)]\n",
    "            total_infected = 0\n",
    "            for j in neighbors:\n",
    "                if directory.get(j).infected == 1:\n",
    "                    total_infected += 1\n",
    "            if total_infected >= agent.infect_treshold:\n",
    "                agent.infect()"
   ]
  },
  {
   "cell_type": "markdown",
   "metadata": {},
   "source": [
    "## 3- find out times for total infection"
   ]
  },
  {
   "cell_type": "code",
   "execution_count": 11,
   "metadata": {},
   "outputs": [],
   "source": [
    "def run_rumor_simulation(network_size = 100 ,average_path=10,rewire=0.6, patient_zero_percentage=1,treshold_index=2):\n",
    "    ########## making graph ###########\n",
    "    #make a graph\n",
    "    ws = ns.make_ws_graph(network_size,average_path,rewire)\n",
    "    #initialize a network of agent\n",
    "    ws_di = initialize_network_agent(ws)\n",
    "    #initialize treshold\n",
    "    \n",
    "    for i in range(network_size):\n",
    "        ws_di.get(i).change_tresh(treshold_index)\n",
    "    \n",
    "    #seed the rumor\n",
    "    initialize_patient_zero(ws,ws_di,patient_zero_percentage)\n",
    "    #initial infection\n",
    "    tot_inf = 0\n",
    "    for i in range(len(ws_di)):\n",
    "        tot_inf += ws_di.get(i).infected \n",
    "\n",
    "    #total infection\n",
    "    tot_inf_list = []\n",
    "    rounds_list = []\n",
    "    rounds = 0\n",
    "    tot_inf_list.append(tot_inf)\n",
    "    rounds_list.append(rounds)\n",
    "    \n",
    "    # have to run two rounds first\n",
    "    for i in range(2):\n",
    "        tot_inf = 0 #reset\n",
    "        propage(ws,ws_di)\n",
    "        for i in range(len(ws_di)):\n",
    "            tot_inf += ws_di.get(i).infected    \n",
    "        rounds += 1\n",
    "        tot_inf_list.append(tot_inf)\n",
    "        rounds_list.append(rounds)    \n",
    "        \n",
    "    # end if no more infection are detected\n",
    "    while (tot_inf != tot_inf_list[len(tot_inf_list)-2] ):#if the last two elements are not the same, keep looping\n",
    "        tot_inf = 0 #reset\n",
    "        for i in range(len(ws_di)):\n",
    "            tot_inf += ws_di.get(i).infected    \n",
    "        propage(ws,ws_di)\n",
    "        rounds += 1\n",
    "        tot_inf_list.append(tot_inf)\n",
    "        rounds_list.append(rounds)\n",
    "        \n",
    "    return(tot_inf_list, rounds_list)"
   ]
  },
  {
   "cell_type": "code",
   "execution_count": 12,
   "metadata": {},
   "outputs": [
    {
     "data": {
      "text/plain": [
       "([14, 42, 100, 100], [0, 1, 2, 3])"
      ]
     },
     "execution_count": 12,
     "metadata": {},
     "output_type": "execute_result"
    }
   ],
   "source": [
    "run_rumor_simulation(100,15,0,0.8,4)"
   ]
  },
  {
   "cell_type": "code",
   "execution_count": 15,
   "metadata": {},
   "outputs": [
    {
     "data": {
      "text/plain": [
       "([2, 45, 100, 100], [0, 1, 2, 3])"
      ]
     },
     "execution_count": 15,
     "metadata": {},
     "output_type": "execute_result"
    }
   ],
   "source": [
    "run_rumor_simulation(100,5,0,0.8,2)"
   ]
  },
  {
   "cell_type": "code",
   "execution_count": 16,
   "metadata": {},
   "outputs": [
    {
     "data": {
      "text/plain": [
       "([6, 7, 8, 8], [0, 1, 2, 3])"
      ]
     },
     "execution_count": 16,
     "metadata": {},
     "output_type": "execute_result"
    }
   ],
   "source": [
    "run_rumor_simulation(100,5,0.6,0.8,2)"
   ]
  },
  {
   "cell_type": "code",
   "execution_count": 17,
   "metadata": {},
   "outputs": [
    {
     "data": {
      "text/plain": [
       "([3, 3, 3], [0, 1, 2])"
      ]
     },
     "execution_count": 17,
     "metadata": {},
     "output_type": "execute_result"
    }
   ],
   "source": [
    "run_rumor_simulation(100,5,0.6,0.8,2)"
   ]
  },
  {
   "cell_type": "code",
   "execution_count": 36,
   "metadata": {},
   "outputs": [
    {
     "data": {
      "text/plain": [
       "([2, 8, 18, 18], [0, 1, 2, 3])"
      ]
     },
     "execution_count": 36,
     "metadata": {},
     "output_type": "execute_result"
    }
   ],
   "source": [
    "run_rumor_simulation(1000,2,0.6,0.8,1)"
   ]
  },
  {
   "cell_type": "code",
   "execution_count": null,
   "metadata": {},
   "outputs": [],
   "source": [
    "# adding random noise: agents have 10% of chance"
   ]
  }
 ],
 "metadata": {
  "kernelspec": {
   "display_name": "Python 3.9.1 64-bit ('social-computing-ABM': conda)",
   "name": "python391jvsc74a57bd06bd348733a09a3a2887958b5eaeef64613595526374dec9b9bd8e135328bc26a"
  },
  "language_info": {
   "name": "python",
   "version": ""
  }
 },
 "nbformat": 4,
 "nbformat_minor": 4
}