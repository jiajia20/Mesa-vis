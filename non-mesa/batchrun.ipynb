{
 "cells": [
  {
   "cell_type": "markdown",
   "metadata": {},
   "source": [
    "batch run infection problem +\n",
    "Now that I made sure my code have no problem with very clear visualization, I need to figure out the bifrecation point.\n",
    "Intuition told me that in this case, the network size doesn't even matter as much with the simple spreading mechaism, the rewiring factor (which lead to clustering factor matter)\n",
    "I need to figure out \n",
    "- [x]how to batch run (figure out when/where to stop) the code\n",
    "- [x]run 1000 times, how many round does it take to stop infecting (with same agent number, average neighbor, slightly different clustering co-efficient)     \n",
    "- [x]visualize with scattered plot"
   ]
  },
  {
   "cell_type": "code",
   "execution_count": 1,
   "metadata": {},
   "outputs": [],
   "source": [
    "from __future__ import print_function, division\n",
    "\n",
    "%matplotlib inline\n",
    "\n",
    "import matplotlib.pyplot as plt\n",
    "import networkx as nx\n",
    "import numpy as np\n",
    "\n",
    "# import thinkplot\n",
    "import networksimulator as ns"
   ]
  },
  {
   "cell_type": "code",
   "execution_count": 2,
   "metadata": {},
   "outputs": [
    {
     "data": {
      "text/plain": "([15, 51, 95, 100, 100], [64, 47, 5, 0, 0], [21, 2, 0, 0, 0])"
     },
     "execution_count": 2,
     "metadata": {},
     "output_type": "execute_result"
    }
   ],
   "source": [
    "import batch_run as b\n",
    "# test batch run function\n",
    "b.batch_run(100 ,10,0.6, 0.8, 2)"
   ]
  },
  {
   "cell_type": "code",
   "execution_count": 4,
   "metadata": {},
   "outputs": [],
   "source": [
    "# test first 100 round of result\n",
    "# 100 agent, 10 avg nerighbor, 0.6 reqire, 0.8 initial cluster infection, 2 treshold\n",
    "rounds = []\n",
    "inf_percentage = []\n",
    "for i in range (100):\n",
    "    inf = b.batch_run(100 ,10,0.6, 0.8, 2)[0]\n",
    "    #find out how many round\n",
    "    round_num = len(inf)-1\n",
    "    rounds.append(round_num)\n",
    "    #find out percentage\n",
    "    largest_inf = inf[len(inf)-1]\n",
    "    percentage= largest_inf/100 #we have 100 agent right now\n",
    "    inf_percentage.append(percentage)\n"
   ]
  },
  {
   "cell_type": "code",
   "execution_count": 5,
   "metadata": {},
   "outputs": [
    {
     "data": {
      "text/plain": "(array([75.,  0.,  0., 24.,  0.,  1.]),\n array([4.        , 4.33333333, 4.66666667, 5.        , 5.33333333,\n        5.66666667, 6.        ]),\n <BarContainer object of 6 artists>)"
     },
     "execution_count": 5,
     "metadata": {},
     "output_type": "execute_result"
    },
    {
     "data": {
      "image/png": "[encoded data removed]",
      "text/plain": "<Figure size 432x288 with 1 Axes>"
     },
     "metadata": {
      "needs_background": "light"
     },
     "output_type": "display_data"
    }
   ],
   "source": [
    "plt.hist(rounds, bins=6) "
   ]
  },
  {
   "cell_type": "code",
   "execution_count": 6,
   "metadata": {},
   "outputs": [
    {
     "data": {
      "image/png": "[encoded data removed]",
      "text/plain": "<Figure size 432x288 with 1 Axes>"
     },
     "metadata": {
      "needs_background": "light"
     },
     "output_type": "display_data"
    }
   ],
   "source": [
    "x = np.arange(0, len(inf_percentage))  \n",
    "y = inf_percentage\n",
    "plt.plot(x, y, 'o', color='black');"
   ]
  },
  {
   "cell_type": "code",
   "execution_count": 8,
   "metadata": {},
   "outputs": [],
   "source": [
    "# second 100 time\n",
    "#100 agent, 10 neighbor, 0.2 rewire, 0.8 patient zero, 2 treshold\n",
    "\n",
    "rounds = []\n",
    "inf_percentage = []\n",
    "for i in range (100):\n",
    "    inf = b.batch_run(100 ,10,0.2, 0.8, 2)[0]\n",
    "    #find out how many round\n",
    "    round_num = len(inf)-1\n",
    "    rounds.append(round_num)\n",
    "    #find out percentage\n",
    "    largest_inf = inf[len(inf)-1]\n",
    "    percentage= largest_inf/100 #we have 100 agent right now\n",
    "    inf_percentage.append(percentage)"
   ]
  },
  {
   "cell_type": "code",
   "execution_count": 9,
   "metadata": {},
   "outputs": [
    {
     "data": {
      "text/plain": "(array([ 1.,  0., 39.,  0., 48., 12.]),\n array([4. , 4.5, 5. , 5.5, 6. , 6.5, 7. ]),\n <BarContainer object of 6 artists>)"
     },
     "execution_count": 9,
     "metadata": {},
     "output_type": "execute_result"
    },
    {
     "data": {
      "image/png": "[encoded data removed]",
      "text/plain": "<Figure size 432x288 with 1 Axes>"
     },
     "metadata": {
      "needs_background": "light"
     },
     "output_type": "display_data"
    }
   ],
   "source": [
    "plt.hist(rounds, bins=6)  "
   ]
  },
  {
   "cell_type": "code",
   "execution_count": 10,
   "metadata": {},
   "outputs": [
    {
     "data": {
      "image/png": "[encoded data removed]",
      "text/plain": "<Figure size 432x288 with 1 Axes>"
     },
     "metadata": {
      "needs_background": "light"
     },
     "output_type": "display_data"
    }
   ],
   "source": [
    "x = np.arange(0, len(inf_percentage))  \n",
    "y = inf_percentage\n",
    "plt.plot(x, y, 'o', color='black');"
   ]
  },
  {
   "cell_type": "code",
   "execution_count": 12,
   "metadata": {},
   "outputs": [
    {
     "data": {
      "text/plain": "0.07929999999999997"
     },
     "execution_count": 12,
     "metadata": {},
     "output_type": "execute_result"
    }
   ],
   "source": [
    "# third 100 time\n",
    "#100 agent, 4 neighbor, 0.2 rewire, 0.8 patient zero, 2 treshold\n",
    "\n",
    "rounds = []\n",
    "inf_percentage = []\n",
    "for i in range (100):\n",
    "    inf = b.batch_run(100, 4,0.2, 0.8, 2)[0]\n",
    "    #find out how many round\n",
    "    round_num = len(inf)-1\n",
    "    rounds.append(round_num)\n",
    "    #find out percentage\n",
    "    largest_inf = inf[len(inf)-1]\n",
    "    percentage= largest_inf/100 #we have 100 agent right now\n",
    "    inf_percentage.append(percentage)\n",
    "\n",
    "sum(inf_percentage)/len(inf_percentage)"
   ]
  },
  {
   "cell_type": "code",
   "execution_count": 13,
   "metadata": {},
   "outputs": [
    {
     "data": {
      "image/png": "[encoded data removed]",
      "text/plain": "<Figure size 432x288 with 1 Axes>"
     },
     "metadata": {
      "needs_background": "light"
     },
     "output_type": "display_data"
    }
   ],
   "source": [
    "x = np.arange(0, len(inf_percentage))  \n",
    "y = inf_percentage\n",
    "plt.plot(x, y, 'o', color='black');"
   ]
  },
  {
   "cell_type": "code",
   "execution_count": 15,
   "metadata": {},
   "outputs": [
    {
     "data": {
      "image/png": "[encoded data removed]",
      "text/plain": "<Figure size 432x288 with 1 Axes>"
     },
     "metadata": {
      "needs_background": "light"
     },
     "output_type": "display_data"
    }
   ],
   "source": [
    "# second 100 time\n",
    "#100 agent, 10 neighbor, 0.6 rewire, 0.8 patient zero, 2 treshold\n",
    "\n",
    "rounds = []\n",
    "inf_percentage = []\n",
    "for i in range (100):\n",
    "    inf = b.batch_run(100, 4,0.6, 0.8, 2)[0]\n",
    "    #find out how many round\n",
    "    round_num = len(inf)-1\n",
    "    rounds.append(round_num)\n",
    "    #find out percentage\n",
    "    largest_inf = inf[len(inf)-1]\n",
    "    percentage= largest_inf/100 #we have 100 agent right now\n",
    "    inf_percentage.append(percentage)\n",
    "\n",
    "x = np.arange(0, len(inf_percentage))  \n",
    "y = inf_percentage\n",
    "plt.plot(x, y, 'o', color='black'); "
   ]
  },
  {
   "cell_type": "code",
   "execution_count": 16,
   "metadata": {},
   "outputs": [
    {
     "data": {
      "text/plain": "(array([96.,  2.,  0.,  0.,  1.,  1.]),\n array([ 1.        ,  6.33333333, 11.66666667, 17.        , 22.33333333,\n        27.66666667, 33.        ]),\n <BarContainer object of 6 artists>)"
     },
     "execution_count": 16,
     "metadata": {},
     "output_type": "execute_result"
    },
    {
     "data": {
      "image/png": "[encoded data removed]",
      "text/plain": "<Figure size 432x288 with 1 Axes>"
     },
     "metadata": {
      "needs_background": "light"
     },
     "output_type": "display_data"
    }
   ],
   "source": [
    "plt.hist(rounds, bins=6)  "
   ]
  }
 ],
 "metadata": {
  "kernelspec": {
   "display_name": "Python 3.9.1 64-bit ('social-computing-ABM': conda)",
   "name": "python391jvsc74a57bd06bd348733a09a3a2887958b5eaeef64613595526374dec9b9bd8e135328bc26a"
  },
  "language_info": {
   "codemirror_mode": {
    "name": "ipython",
    "version": 3
   },
   "file_extension": ".py",
   "mimetype": "text/x-python",
   "name": "python",
   "nbconvert_exporter": "python",
   "pygments_lexer": "ipython3",
   "version": "3.9.1"
  },
  "orig_nbformat": 2
 },
 "nbformat": 4,
 "nbformat_minor": 2
}