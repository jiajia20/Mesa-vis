{
 "cells": [
  {
   "cell_type": "markdown",
   "metadata": {},
   "source": [
    "## Research Plan\n",
    "Test differen netowork topology\n",
    "1. Set up and import AB graph,  networkX objects []\n",
    "2. set up and test fb socialgraph \n",
    "3. Set up and test twittwe social graph \n",
    "\n",
    "Test \n",
    "1. Test information passing\n",
    "2. Test different agent behavior?"
   ]
  },
  {
   "cell_type": "code",
   "execution_count": null,
   "metadata": {},
   "outputs": [],
   "source": [
    "import AB_model as ab \n",
    "import networkx as nx"
   ]
  },
  {
   "cell_type": "code",
   "execution_count": null,
   "metadata": {},
   "outputs": [],
   "source": [
    "model = ab.InfoSpread (num_nodes=1000, new_edge_num=3, initial_outbreak_size=1, threshold = 2, inf_prob = 0.5)\n",
    "#num_nodes=10, avg_node_degree=3, rewire_prob=.1, initial_outbreak_size=1, threshold = 2\n",
    "for i in range(50):\n",
    "    model.step()"
   ]
  },
  {
   "cell_type": "code",
   "execution_count": null,
   "metadata": {},
   "outputs": [],
   "source": [
    "df = model.datacollector.get_model_vars_dataframe()\n",
    "df"
   ]
  },
  {
   "cell_type": "code",
   "execution_count": null,
   "metadata": {},
   "outputs": [],
   "source": [
    "(nx.average_clustering(model.G),\n",
    "nx.average_shortest_path_length(model.G),\n",
    "model.G.degree())"
   ]
  },
  {
   "cell_type": "markdown",
   "metadata": {},
   "source": [
    "## batchrun"
   ]
  },
  {
   "cell_type": "code",
   "execution_count": 8,
   "metadata": {},
   "outputs": [
    {
     "name": "stderr",
     "output_type": "stream",
     "text": [
      "19it [02:16,  7.21s/it]\n"
     ]
    }
   ],
   "source": [
    "from mesa.batchrunner import BatchRunner\n",
    "from AB_model import *\n",
    "\n",
    "#num_nodes=10, avg_node_degree=3, rewire_prob=.1, initial_outbreak_size=1, threshold = 2\n",
    "# rewire_list = []\n",
    "# for i in range(21):\n",
    "#     rewire_list.append(round((i*0.05),3))\n",
    "#rewire_list = [0, 0.1, 0.2, 0.3]\n",
    "new_edge_num_list = range(1,20)\n",
    "\n",
    "fixed_params = {\"num_nodes\": 1000,\n",
    "               \"initial_outbreak_size\" : 1,\n",
    "               \"threshold\" : 2,\n",
    "               \"inf_prob\" : 1,\n",
    "               }\n",
    "variable_params = {\"new_edge_num\": new_edge_num_list}  \n",
    "batch_run = BatchRunner(InfoSpread,\n",
    "                        variable_params,\n",
    "                        fixed_params,\n",
    "                        iterations=1,\n",
    "                        max_steps=2000,\n",
    "                        model_reporters={\"infection_list\": infected_list})\n",
    "batch_run.run_all()"
   ]
  },
  {
   "cell_type": "code",
   "execution_count": 9,
   "metadata": {},
   "outputs": [],
   "source": [
    "run_data = batch_run.get_model_vars_dataframe()"
   ]
  },
  {
   "cell_type": "code",
   "execution_count": 10,
   "metadata": {},
   "outputs": [
    {
     "data": {
      "image/png": "[encoded data removed]",
      "text/plain": [
       "<Figure size 432x288 with 1 Axes>"
      ]
     },
     "metadata": {
      "needs_background": "light"
     },
     "output_type": "display_data"
    }
   ],
   "source": [
    "import matplotlib.pyplot as plt\n",
    "from runtime import *\n",
    "\n",
    "x = run_data['new_edge_num'].values.tolist()\n",
    "time = calculate_infection_time(run_data)\n",
    "plt.plot(x,time,'o', color = '#3CAEA3', alpha = 0.3)\n",
    "plt.xlabel(\"new edge per node\")\n",
    "plt.ylabel(\"steps to infect network\")\n",
    "plt.title(\"n= 1000, treshoud = 2, outbreak size = 1, increase p\")\n",
    "plt.xticks(x)\n",
    "plt.show()"
   ]
  },
  {
   "cell_type": "code",
   "execution_count": 11,
   "metadata": {},
   "outputs": [
    {
     "data": {
      "image/png": "[encoded data removed]",
      "text/plain": [
       "<Figure size 432x288 with 1 Axes>"
      ]
     },
     "metadata": {
      "needs_background": "light"
     },
     "output_type": "display_data"
    }
   ],
   "source": [
    "x = run_data['new_edge_num'].values.tolist()\n",
    "inf = calculate_total_infection(run_data)\n",
    "plt.plot(x,inf,'o', color = '#3CAEA3', alpha = 0.3)\n",
    "plt.xlabel(\"new edge per node\")\n",
    "plt.ylabel(\"total infection\")\n",
    "plt.title(\"n= 1000, treshoud = 2, outbreak size = 1\")\n",
    "plt.xticks(x)\n",
    "plt.show()"
   ]
  }
 ],
 "metadata": {
  "interpreter": {
   "hash": "12ea92c6e057358f290158f14cde1803ce24afa5176189045da4b153e2188ab2"
  },
  "kernelspec": {
   "display_name": "Python 3.8.8 64-bit ('base': conda)",
   "name": "python3"
  },
  "language_info": {
   "codemirror_mode": {
    "name": "ipython",
    "version": 3
   },
   "file_extension": ".py",
   "mimetype": "text/x-python",
   "name": "python",
   "nbconvert_exporter": "python",
   "pygments_lexer": "ipython3",
   "version": "3.8.8"
  },
  "orig_nbformat": 2
 },
 "nbformat": 4,
 "nbformat_minor": 2
}
