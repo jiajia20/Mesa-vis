{
 "cells": [
  {
   "cell_type": "code",
   "execution_count": 12,
   "source": [
    "from mesa.batchrunner import BatchRunner\n",
    "from AB_model import *\n",
    "\n",
    "#num_nodes=10, avg_node_degree=3, rewire_prob=.1, initial_outbreak_size=1, threshold = 2\n",
    "# rewire_list = []\n",
    "# for i in range(21):\n",
    "#     rewire_list.append(round((i*0.05),3))\n",
    "#rewire_list = [0, 0.1, 0.2, 0.3]\n",
    "#new_edge_num_list = range(1,20)\n",
    "\n",
    "fixed_params = {\"num_nodes\": 1000,\n",
    "               \"initial_outbreak_size\" : 1,\n",
    "               \"threshold\" : 2,\n",
    "               #\"inf_prob\" : 1,\n",
    "               \"new_edge_num\": 8,\n",
    "               }\n",
    "variable_params = {\"inf_prob\": [0.3,0.4]}  \n",
    "batch_run = BatchRunner(InfoSpread,\n",
    "                        variable_params,\n",
    "                        fixed_params,\n",
    "                        iterations=30,\n",
    "                        max_steps=2000,\n",
    "                        model_reporters={\"infection_list\": infected_list})\n",
    "batch_run.run_all()"
   ],
   "outputs": [
    {
     "output_type": "stream",
     "name": "stderr",
     "text": [
      "60it [20:15, 20.26s/it]\n"
     ]
    }
   ],
   "metadata": {}
  },
  {
   "cell_type": "code",
   "execution_count": 13,
   "source": [
    "run_data = batch_run.get_model_vars_dataframe()"
   ],
   "outputs": [],
   "metadata": {}
  },
  {
   "cell_type": "code",
   "execution_count": 27,
   "source": [
    "run_data.inf_prob"
   ],
   "outputs": [
    {
     "output_type": "execute_result",
     "data": {
      "text/plain": [
       "0     0.3\n",
       "1     0.3\n",
       "2     0.3\n",
       "3     0.3\n",
       "4     0.3\n",
       "5     0.3\n",
       "6     0.3\n",
       "7     0.3\n",
       "8     0.3\n",
       "9     0.3\n",
       "10    0.3\n",
       "11    0.3\n",
       "12    0.3\n",
       "13    0.3\n",
       "14    0.3\n",
       "15    0.3\n",
       "16    0.3\n",
       "17    0.3\n",
       "18    0.3\n",
       "19    0.3\n",
       "20    0.3\n",
       "21    0.3\n",
       "22    0.3\n",
       "23    0.3\n",
       "24    0.3\n",
       "25    0.3\n",
       "26    0.3\n",
       "27    0.3\n",
       "28    0.3\n",
       "29    0.3\n",
       "30    0.4\n",
       "31    0.4\n",
       "32    0.4\n",
       "33    0.4\n",
       "34    0.4\n",
       "35    0.4\n",
       "36    0.4\n",
       "37    0.4\n",
       "38    0.4\n",
       "39    0.4\n",
       "40    0.4\n",
       "41    0.4\n",
       "42    0.4\n",
       "43    0.4\n",
       "44    0.4\n",
       "45    0.4\n",
       "46    0.4\n",
       "47    0.4\n",
       "48    0.4\n",
       "49    0.4\n",
       "50    0.4\n",
       "51    0.4\n",
       "52    0.4\n",
       "53    0.4\n",
       "54    0.4\n",
       "55    0.4\n",
       "56    0.4\n",
       "57    0.4\n",
       "58    0.4\n",
       "59    0.4\n",
       "Name: inf_prob, dtype: float64"
      ]
     },
     "metadata": {},
     "execution_count": 27
    }
   ],
   "metadata": {}
  },
  {
   "cell_type": "code",
   "execution_count": 23,
   "source": [
    "import pandas\n",
    "from collections import Counter\n",
    "count = Counter(time)\n",
    "\n",
    "plt.bar(np.arange(count), np.bincount(time, minlength=13)[1:])\n",
    "df = pandas.DataFrame.from_dict(count, orient='index')\n",
    "df.plot(kind='bar')\n"
   ],
   "outputs": [
    {
     "output_type": "error",
     "ename": "TypeError",
     "evalue": "unsupported operand type(s) for -: 'Counter' and 'int'",
     "traceback": [
      "\u001b[0;31m---------------------------------------------------------------------------\u001b[0m",
      "\u001b[0;31mTypeError\u001b[0m                                 Traceback (most recent call last)",
      "\u001b[0;32m<ipython-input-23-f96214075642>\u001b[0m in \u001b[0;36m<module>\u001b[0;34m\u001b[0m\n\u001b[1;32m      3\u001b[0m \u001b[0mcount\u001b[0m \u001b[0;34m=\u001b[0m \u001b[0mCounter\u001b[0m\u001b[0;34m(\u001b[0m\u001b[0mtime\u001b[0m\u001b[0;34m)\u001b[0m\u001b[0;34m\u001b[0m\u001b[0;34m\u001b[0m\u001b[0m\n\u001b[1;32m      4\u001b[0m \u001b[0;34m\u001b[0m\u001b[0m\n\u001b[0;32m----> 5\u001b[0;31m \u001b[0mplt\u001b[0m\u001b[0;34m.\u001b[0m\u001b[0mbar\u001b[0m\u001b[0;34m(\u001b[0m\u001b[0mnp\u001b[0m\u001b[0;34m.\u001b[0m\u001b[0marange\u001b[0m\u001b[0;34m(\u001b[0m\u001b[0mcount\u001b[0m\u001b[0;34m)\u001b[0m\u001b[0;34m,\u001b[0m \u001b[0mnp\u001b[0m\u001b[0;34m.\u001b[0m\u001b[0mbincount\u001b[0m\u001b[0;34m(\u001b[0m\u001b[0mtime\u001b[0m\u001b[0;34m,\u001b[0m \u001b[0mminlength\u001b[0m\u001b[0;34m=\u001b[0m\u001b[0;36m13\u001b[0m\u001b[0;34m)\u001b[0m\u001b[0;34m[\u001b[0m\u001b[0;36m1\u001b[0m\u001b[0;34m:\u001b[0m\u001b[0;34m]\u001b[0m\u001b[0;34m)\u001b[0m\u001b[0;34m\u001b[0m\u001b[0;34m\u001b[0m\u001b[0m\n\u001b[0m\u001b[1;32m      6\u001b[0m \u001b[0mdf\u001b[0m \u001b[0;34m=\u001b[0m \u001b[0mpandas\u001b[0m\u001b[0;34m.\u001b[0m\u001b[0mDataFrame\u001b[0m\u001b[0;34m.\u001b[0m\u001b[0mfrom_dict\u001b[0m\u001b[0;34m(\u001b[0m\u001b[0mcount\u001b[0m\u001b[0;34m,\u001b[0m \u001b[0morient\u001b[0m\u001b[0;34m=\u001b[0m\u001b[0;34m'index'\u001b[0m\u001b[0;34m)\u001b[0m\u001b[0;34m\u001b[0m\u001b[0;34m\u001b[0m\u001b[0m\n\u001b[1;32m      7\u001b[0m \u001b[0mdf\u001b[0m\u001b[0;34m.\u001b[0m\u001b[0mplot\u001b[0m\u001b[0;34m(\u001b[0m\u001b[0mkind\u001b[0m\u001b[0;34m=\u001b[0m\u001b[0;34m'bar'\u001b[0m\u001b[0;34m)\u001b[0m\u001b[0;34m\u001b[0m\u001b[0;34m\u001b[0m\u001b[0m\n",
      "\u001b[0;31mTypeError\u001b[0m: unsupported operand type(s) for -: 'Counter' and 'int'"
     ]
    }
   ],
   "metadata": {}
  },
  {
   "cell_type": "code",
   "execution_count": 25,
   "source": [
    "import pandas as pd\n",
    "df = pd.DataFrame({'freq': time})\n",
    "df.groupby('freq', as_index=True).size().plot(kind='bar')\n",
    "plt.show()"
   ],
   "outputs": [
    {
     "output_type": "display_data",
     "data": {
      "image/png": "[encoded data removed]",
      "text/plain": [
       "<Figure size 432x288 with 1 Axes>"
      ]
     },
     "metadata": {
      "needs_background": "light"
     }
    }
   ],
   "metadata": {}
  },
  {
   "cell_type": "code",
   "execution_count": 37,
   "source": [
    "import pandas as pd\n",
    "d = {'Infection_probability':run_data.inf_prob, 'Infection_time':time}\n",
    "df = pd.DataFrame(d)\n",
    "df_1=df[df.Infection_probability == 0.3]\n",
    "df_1.groupby('Infection_time', as_index=True).size().plot(kind='line', color ='red',alpha = 0.5)\n",
    "\n",
    "df_2=df[df.Infection_probability != 0.3]\n",
    "df_2.groupby('Infection_time', as_index=True).size().plot(kind='line', color ='blue',alpha = 0.5)"
   ],
   "outputs": [
    {
     "output_type": "execute_result",
     "data": {
      "text/plain": [
       "<AxesSubplot:xlabel='Infection_time'>"
      ]
     },
     "metadata": {},
     "execution_count": 37
    },
    {
     "output_type": "display_data",
     "data": {
      "image/png": "[encoded data removed]",
      "text/plain": [
       "<Figure size 432x288 with 1 Axes>"
      ]
     },
     "metadata": {
      "needs_background": "light"
     }
    }
   ],
   "metadata": {}
  },
  {
   "cell_type": "code",
   "execution_count": 15,
   "source": [
    "import matplotlib.pyplot as plt\n",
    "from runtime import *\n",
    "\n",
    "x = run_data['inf_prob'].values.tolist()\n",
    "time = calculate_infection_time(run_data)\n",
    "plt.plot(x,time,'o', color = '#3CAEA3', alpha = 0.3)\n",
    "plt.xlabel(\"new edge per node\")\n",
    "plt.ylabel(\"steps to infect network\")\n",
    "plt.title(\"n= 1000, treshoud = 2, outbreak size = 1, increase p\")\n",
    "plt.xticks(x)\n",
    "plt.show()"
   ],
   "outputs": [
    {
     "output_type": "display_data",
     "data": {
      "image/png": "[encoded data removed]",
      "text/plain": [
       "<Figure size 432x288 with 1 Axes>"
      ]
     },
     "metadata": {
      "needs_background": "light"
     }
    }
   ],
   "metadata": {}
  },
  {
   "cell_type": "code",
   "execution_count": 16,
   "source": [
    "x = run_data['inf_prob'].values.tolist()\n",
    "inf = calculate_total_infection(run_data)\n",
    "plt.plot(x,inf,'o', color = '#3CAEA3', alpha = 0.3)\n",
    "plt.xlabel(\"new edge per node\")\n",
    "plt.ylabel(\"total infection\")\n",
    "plt.title(\"n= 1000, treshoud = 2, outbreak size = 1\")\n",
    "plt.xticks(x)\n",
    "plt.show()"
   ],
   "outputs": [
    {
     "output_type": "display_data",
     "data": {
      "image/png": "[encoded data removed]",
      "text/plain": [
       "<Figure size 432x288 with 1 Axes>"
      ]
     },
     "metadata": {
      "needs_background": "light"
     }
    }
   ],
   "metadata": {}
  },
  {
   "cell_type": "markdown",
   "source": [
    "## 1 - Test and Visualize models"
   ],
   "metadata": {}
  },
  {
   "cell_type": "code",
   "execution_count": null,
   "source": [],
   "outputs": [],
   "metadata": {}
  },
  {
   "cell_type": "code",
   "execution_count": 1,
   "source": [
    "from AB_model import *\n",
    "\n",
    "# from batchrun import *"
   ],
   "outputs": [],
   "metadata": {}
  },
  {
   "cell_type": "code",
   "execution_count": 2,
   "source": [
    "model = InfoSpread (num_nodes=1000, new_edge_num=8, rewire_prob=0.1, initial_outbreak_size=1, threshold =2, inf_prob_model = 0.5)\n",
    "#num_nodes=10, avg_node_degree=3, rewire_prob=.1, initial_outbreak_size=1, threshold = 2\n",
    "for i in range(50):\n",
    "    model.step()"
   ],
   "outputs": [
    {
     "output_type": "error",
     "ename": "TypeError",
     "evalue": "__init__() got an unexpected keyword argument 'rewire_prob'",
     "traceback": [
      "\u001b[0;31m---------------------------------------------------------------------------\u001b[0m",
      "\u001b[0;31mTypeError\u001b[0m                                 Traceback (most recent call last)",
      "\u001b[0;32m<ipython-input-2-4bd2b3c5ff3e>\u001b[0m in \u001b[0;36m<module>\u001b[0;34m\u001b[0m\n\u001b[0;32m----> 1\u001b[0;31m \u001b[0mmodel\u001b[0m \u001b[0;34m=\u001b[0m \u001b[0mInfoSpread\u001b[0m \u001b[0;34m(\u001b[0m\u001b[0mnum_nodes\u001b[0m\u001b[0;34m=\u001b[0m\u001b[0;36m1000\u001b[0m\u001b[0;34m,\u001b[0m \u001b[0mnew_edge_num\u001b[0m\u001b[0;34m=\u001b[0m\u001b[0;36m8\u001b[0m\u001b[0;34m,\u001b[0m \u001b[0mrewire_prob\u001b[0m\u001b[0;34m=\u001b[0m\u001b[0;36m0.1\u001b[0m\u001b[0;34m,\u001b[0m \u001b[0minitial_outbreak_size\u001b[0m\u001b[0;34m=\u001b[0m\u001b[0;36m1\u001b[0m\u001b[0;34m,\u001b[0m \u001b[0mthreshold\u001b[0m \u001b[0;34m=\u001b[0m\u001b[0;36m2\u001b[0m\u001b[0;34m,\u001b[0m \u001b[0minf_prob_model\u001b[0m \u001b[0;34m=\u001b[0m \u001b[0;36m0.5\u001b[0m\u001b[0;34m)\u001b[0m\u001b[0;34m\u001b[0m\u001b[0;34m\u001b[0m\u001b[0m\n\u001b[0m\u001b[1;32m      2\u001b[0m \u001b[0;31m#num_nodes=10, avg_node_degree=3, rewire_prob=.1, initial_outbreak_size=1, threshold = 2\u001b[0m\u001b[0;34m\u001b[0m\u001b[0;34m\u001b[0m\u001b[0;34m\u001b[0m\u001b[0m\n\u001b[1;32m      3\u001b[0m \u001b[0;32mfor\u001b[0m \u001b[0mi\u001b[0m \u001b[0;32min\u001b[0m \u001b[0mrange\u001b[0m\u001b[0;34m(\u001b[0m\u001b[0;36m50\u001b[0m\u001b[0;34m)\u001b[0m\u001b[0;34m:\u001b[0m\u001b[0;34m\u001b[0m\u001b[0;34m\u001b[0m\u001b[0m\n\u001b[1;32m      4\u001b[0m     \u001b[0mmodel\u001b[0m\u001b[0;34m.\u001b[0m\u001b[0mstep\u001b[0m\u001b[0;34m(\u001b[0m\u001b[0;34m)\u001b[0m\u001b[0;34m\u001b[0m\u001b[0;34m\u001b[0m\u001b[0m\n",
      "\u001b[0;31mTypeError\u001b[0m: __init__() got an unexpected keyword argument 'rewire_prob'"
     ]
    }
   ],
   "metadata": {}
  },
  {
   "cell_type": "code",
   "execution_count": null,
   "source": [
    "df = model.datacollector.get_model_vars_dataframe()"
   ],
   "outputs": [],
   "metadata": {}
  },
  {
   "cell_type": "markdown",
   "source": [
    "## 2 - Batch Run to find out the determing parameter for rewiring P"
   ],
   "metadata": {}
  },
  {
   "cell_type": "code",
   "execution_count": null,
   "source": [
    " from mesa.batchrunner import BatchRunner\n",
    "\n",
    "#num_nodes=10, avg_node_degree=3, rewire_prob=.1, initial_outbreak_size=1, threshold = 2\n",
    "rewire_list = []\n",
    "for i in range(21):\n",
    "    rewire_list.append(round((i*0.05),3))\n",
    "#rewire_list = [0, 0.1, 0.2, 0.3]\n",
    "\n",
    "fixed_params = {\"num_nodes\": 1000,\n",
    "               \"avg_node_degree\": 8,\n",
    "               \"initial_outbreak_size\" : 1,\n",
    "               \"threshold\" : 2,\n",
    "               \"inf_prob_model\" : 0.5,\n",
    "               }\n",
    "variable_params = {\"rewire_prob\": rewire_list}  #  {\"rewire_prob\": drange(0.05, 1.0, 0.05)}\n",
    "\n",
    "batch_run = BatchRunner(InfoSpread,\n",
    "                        variable_params,\n",
    "                        fixed_params,\n",
    "                        iterations= 3,\n",
    "                        max_steps=50,\n",
    "                        model_reporters={\"infection_list\": infected_list})\n",
    "batch_run.run_all()"
   ],
   "outputs": [],
   "metadata": {}
  },
  {
   "cell_type": "code",
   "execution_count": null,
   "source": [
    "run_data = batch_run.get_model_vars_dataframe()"
   ],
   "outputs": [],
   "metadata": {}
  },
  {
   "cell_type": "code",
   "execution_count": null,
   "source": [
    "import matplotlib.pyplot as plt\n",
    "from runtime import *\n",
    "\n",
    "x = run_data['rewire_prob'].values.tolist()\n",
    "time = calculate_infection_time(run_data)\n",
    "plt.plot(x,time,'o', color = '#3CAEA3', alpha = 0.3)\n",
    "plt.xlabel(\"rewire probability\")\n",
    "plt.ylabel(\"steps to infect network\")\n",
    "plt.title(\"n= 1000, k= 8, treshoud = 2, outbreak size = 1, increase p\")\n",
    "plt.xticks(x)\n",
    "plt.show()"
   ],
   "outputs": [],
   "metadata": {}
  },
  {
   "cell_type": "code",
   "execution_count": null,
   "source": [
    "x = run_data['rewire_prob'].values.tolist()\n",
    "inf = calculate_total_infection(run_data)\n",
    "plt.plot(x,inf,'o', color = '#3CAEA3', alpha = 0.3)\n",
    "plt.xlabel(\"rewire probability\")\n",
    "plt.ylabel(\"total infection\")\n",
    "plt.title(\"n= 1000, k= 8, treshoud = 2, outbreak size = 1, increase p\")\n",
    "plt.xticks(x)\n",
    "plt.show()"
   ],
   "outputs": [],
   "metadata": {}
  },
  {
   "cell_type": "code",
   "execution_count": null,
   "source": [
    "run_data.to_csv('40_itr_change_p.csv')"
   ],
   "outputs": [],
   "metadata": {}
  },
  {
   "cell_type": "code",
   "execution_count": null,
   "source": [
    "import pandas as pd\n",
    "df = pd.read_csv('40_itr_change_p.csv')\n",
    "df"
   ],
   "outputs": [],
   "metadata": {}
  },
  {
   "cell_type": "markdown",
   "source": [
    "# Appendix - Legacy code"
   ],
   "metadata": {}
  },
  {
   "cell_type": "markdown",
   "source": [
    "## 1 - Visualizaion for a single step"
   ],
   "metadata": {}
  },
  {
   "cell_type": "code",
   "execution_count": null,
   "source": [
    "model = InfoSpread (num_nodes=1000, avg_node_degree=3, rewire_prob=.3, initial_outbreak_size=1, threshold = 2,)\n",
    "total_inf = [-1, 0] #buffer item\n",
    "total_inf.append(number_infected(model))\n",
    "while( total_inf[len(total_inf)-1] != total_inf[len(total_inf)-2] ):\n",
    "    model.step()\n",
    "    total_inf.append(number_infected(model))"
   ],
   "outputs": [],
   "metadata": {}
  },
  {
   "cell_type": "code",
   "execution_count": null,
   "source": [
    "df = model.datacollector.get_model_vars_dataframe()\n",
    "df"
   ],
   "outputs": [],
   "metadata": {}
  },
  {
   "cell_type": "code",
   "execution_count": null,
   "source": [
    "inf_count = []\n",
    "state_color = []\n",
    "for i in model.grid.get_cell_list_contents(model.G):\n",
    "    inf_count.append(i.get_infected_neighbor_count())\n",
    "    state = i.state\n",
    "    if state == 1:\n",
    "        state_color.append('#ED553B') # red\n",
    "    elif state == -1:\n",
    "        state_color.append('#3CAEA3') # green\n",
    "    else:\n",
    "        state_color.append('#F6D55C') #yellow       \n",
    "        \n",
    "inf_dic =  {}\n",
    "for i in range(model.num_nodes):\n",
    "    inf_dic.update({i:(str(i),inf_count[i])})"
   ],
   "outputs": [],
   "metadata": {}
  },
  {
   "cell_type": "code",
   "execution_count": null,
   "source": [
    "nx.draw_kamada_kawai(model.G, node_size=300,node_color=state_color, labels=inf_dic, alpha = 0.8)  "
   ],
   "outputs": [],
   "metadata": {}
  },
  {
   "cell_type": "markdown",
   "source": [
    "## 2 - Test other parameter in batchrun"
   ],
   "metadata": {}
  },
  {
   "cell_type": "code",
   "execution_count": null,
   "source": [
    "from mesa.batchrunner import BatchRunner\n",
    "\n",
    "#num_nodes=10, avg_node_degree=3, rewire_prob=.1, initial_outbreak_size=1, threshold = 2\n",
    "rewire_list = []\n",
    "for i in range(21):\n",
    "    rewire_list.append(round((i*0.05),3))\n",
    "#rewire_list = [0, 0.1, 0.2, 0.3]\n",
    "\n",
    "fixed_params = {\"rewire_prob\":0.15,\n",
    "                \"num_nodes\": 80,\n",
    "               \"initial_outbreak_size\" : 1,\n",
    "                \"threshold\" : 2\n",
    "                }\n",
    "variable_params = {\"avg_node_degree\": range(2,20)\n",
    "                  \n",
    "                  }  #  {\"rewire_prob\": range(0.05, 1.0, 0.05)}\n",
    "\n",
    "batch_run = BatchRunner(InfoSpread,\n",
    "                        variable_params,\n",
    "                        fixed_params,\n",
    "                        iterations=5,\n",
    "                        max_steps=10,\n",
    "                        model_reporters={\"infection_list\": infected_list})\n",
    "batch_run.run_all()"
   ],
   "outputs": [],
   "metadata": {}
  },
  {
   "cell_type": "code",
   "execution_count": null,
   "source": [
    "run_data = batch_run.get_model_vars_dataframe()"
   ],
   "outputs": [],
   "metadata": {}
  },
  {
   "cell_type": "code",
   "execution_count": null,
   "source": [],
   "outputs": [],
   "metadata": {}
  },
  {
   "cell_type": "code",
   "execution_count": null,
   "source": [
    "run_data"
   ],
   "outputs": [],
   "metadata": {}
  },
  {
   "cell_type": "code",
   "execution_count": null,
   "source": [
    "import matplotlib.pyplot as plt\n",
    "from runtime import *\n",
    "\n",
    "x = run_data['rewire_prob'].values.tolist()\n",
    "time = calculate_infection_time(run_data)\n",
    "plt.plot(x,time,'o', color = '#3CAEA3', alpha = 0.3)\n",
    "plt.xlabel(\"rewire probability\")\n",
    "plt.ylabel(\"steps to infect network\")\n",
    "plt.title(\"n= 1000, k= 8, treshoud = 2, outbreak size = 1, increase p\")\n",
    "plt.xticks(x)\n",
    "plt.show()"
   ],
   "outputs": [],
   "metadata": {}
  },
  {
   "cell_type": "code",
   "execution_count": null,
   "source": [
    "x = run_data['rewire_prob'].values.tolist()\n",
    "inf = calculate_total_infection(run_data)\n",
    "plt.plot(x,inf,'o', color = '#3CAEA3', alpha = 0.3)\n",
    "plt.xlabel(\"rewire probability\")\n",
    "plt.ylabel(\"total infection\")\n",
    "plt.title(\"n= 1000, k= 8, treshoud = 2, outbreak size = 1, increase p\")\n",
    "plt.xticks(x)\n",
    "plt.show()"
   ],
   "outputs": [],
   "metadata": {}
  },
  {
   "cell_type": "markdown",
   "source": [
    "### 2.3 Testing batch run with changing rewireing factor"
   ],
   "metadata": {}
  },
  {
   "cell_type": "code",
   "execution_count": null,
   "source": [
    "#batch running test 2\n",
    "from mesa.batchrunner import BatchRunner\n",
    "\n",
    "#num_nodes=10, avg_node_degree=3, rewire_prob=.1, initial_outbreak_size=1, threshold = 2\n",
    "rewire_list = []\n",
    "for i in range(21):\n",
    "    rewire_list.append(round((i*0.05),3))\n",
    "#rewire_list = [0, 0.1, 0.2, 0.3]\n",
    "\n",
    "fixed_params = {\"num_nodes\": 80,\n",
    "               \"avg_node_degree\": 8,\n",
    "               \"initial_outbreak_size\" : 1,\n",
    "               \"threshold\" : 2}\n",
    "variable_params = {\"rewire_prob\": rewire_list}  #  {\"rewire_prob\": drange(0.05, 1.0, 0.05)}\n",
    "\n",
    "batch_run = BatchRunner(InfoSpread,\n",
    "                        variable_params,\n",
    "                        fixed_params,\n",
    "                        iterations=5,\n",
    "                        max_steps=10,\n",
    "                        model_reporters={\"infection_list\": infected_list})\n",
    "batch_run.run_all()"
   ],
   "outputs": [],
   "metadata": {}
  },
  {
   "cell_type": "code",
   "execution_count": null,
   "source": [
    "run_data = batch_run.get_model_vars_dataframe()\n",
    "#run_data"
   ],
   "outputs": [],
   "metadata": {}
  },
  {
   "cell_type": "code",
   "execution_count": null,
   "source": [
    "import matplotlib.pyplot as plt\n",
    "import numpy"
   ],
   "outputs": [],
   "metadata": {}
  },
  {
   "cell_type": "code",
   "execution_count": null,
   "source": [
    "\n",
    "x = run_data['rewire_prob'].values.tolist()\n",
    "time = calculate_infection_time(run_data)\n",
    "plt.plot(x,time,'o', color = '#3CAEA3',alpha = 0.3)"
   ],
   "outputs": [],
   "metadata": {}
  },
  {
   "cell_type": "code",
   "execution_count": null,
   "source": [
    "inf = calculate_total_infection(run_data)\n",
    "plt.plot(x,inf,'o', color = '#ED553B', alpha = 0.3)"
   ],
   "outputs": [],
   "metadata": {}
  },
  {
   "cell_type": "markdown",
   "source": [
    "## 3 - Centola Replication"
   ],
   "metadata": {}
  },
  {
   "cell_type": "code",
   "execution_count": null,
   "source": [
    "from mesa.batchrunner import BatchRunner"
   ],
   "outputs": [],
   "metadata": {
    "jupyter": {
     "source_hidden": true
    }
   }
  },
  {
   "cell_type": "code",
   "execution_count": null,
   "source": [
    "#num_nodes=40000, avg_node_degree=8, rewire_prob=a changing, initial_outbreak_size=1, threshold = 3\n",
    "rewire_list = []\n",
    "for i in range(201):\n",
    "    rewire_list.append(round((i*0.005),4))\n",
    "\n",
    "fixed_params = {\"avg_node_degree\":8,\n",
    "                \"num_nodes\": 1000,\n",
    "               \"initial_outbreak_size\" : 1,\n",
    "                \"threshold\" : 2\n",
    "                }\n",
    "variable_params = {\n",
    "                      \"rewire_prob\": [0.000001, 0.00001,0.0001,0.001,0.01,0.1,1]\n",
    "                  }  #  {\"rewire_prob\": range(0.05, 1.0, 0.05)}\n",
    "\n",
    "batch_run = BatchRunner(InfoSpread,\n",
    "                        variable_params,\n",
    "                        fixed_params,\n",
    "                        iterations=1,\n",
    "                        max_steps=10,\n",
    "                        model_reporters={\"infection_list\": infected_list})\n",
    "batch_run.run_all()"
   ],
   "outputs": [],
   "metadata": {
    "jupyter": {
     "source_hidden": true
    }
   }
  },
  {
   "cell_type": "code",
   "execution_count": null,
   "source": [
    "run_data = batch_run.get_model_vars_dataframe()\n",
    "run_data"
   ],
   "outputs": [],
   "metadata": {
    "jupyter": {
     "source_hidden": true
    }
   }
  },
  {
   "cell_type": "code",
   "execution_count": null,
   "source": [
    "time = calculate_infection_time(run_data)"
   ],
   "outputs": [],
   "metadata": {
    "jupyter": {
     "source_hidden": true
    }
   }
  },
  {
   "cell_type": "code",
   "execution_count": null,
   "source": [
    "time"
   ],
   "outputs": [],
   "metadata": {
    "jupyter": {
     "source_hidden": true
    }
   }
  },
  {
   "cell_type": "code",
   "execution_count": null,
   "source": [
    "plt.plot(run_data.rewire_prob,time,'o', color = '#3CAEA3', alpha = 0.3)\n",
    "plt.xscale('log')\n",
    "plt.show()"
   ],
   "outputs": [],
   "metadata": {
    "jupyter": {
     "source_hidden": true
    }
   }
  },
  {
   "cell_type": "code",
   "execution_count": null,
   "source": [
    "import matplotlib.pyplot as plt"
   ],
   "outputs": [],
   "metadata": {
    "jupyter": {
     "source_hidden": true
    }
   }
  },
  {
   "cell_type": "code",
   "execution_count": null,
   "source": [
    "x = run_data.rewire_prob\n",
    "time = calculate_infection_time(run_data)\n",
    "plt.plot(x,time,'o', color = '#3CAEA3', alpha = 0.3)\n",
    "plt.xlabel(\"rewiring probability\")\n",
    "plt.ylabel(\"steps to infect network\")\n",
    "plt.title(\"40 agents, 8 avergae neighbors, 3 treshold\")\n",
    "plt.xticks(x)\n",
    "plt.xscale('log')\n",
    "plt.show()"
   ],
   "outputs": [],
   "metadata": {
    "jupyter": {
     "source_hidden": true
    }
   }
  },
  {
   "cell_type": "code",
   "execution_count": null,
   "source": [
    "x = run_data['rewire_prob'].values.tolist()\n",
    "inf = calculate_total_infection(run_data)\n",
    "plt.plot(x,inf,'o', color = '#3CAEA3', alpha = 0.3)\n",
    "plt.xlabel(\"average node degree\")\n",
    "plt.ylabel(\"total infection\")\n",
    "plt.title(\"control rewire prob = 0.15, treshoud = 2, outbreak size = 2,\")\n",
    "plt.xticks(x)\n",
    "plt.xscale('log')\n",
    "plt.show()"
   ],
   "outputs": [],
   "metadata": {
    "jupyter": {
     "source_hidden": true
    }
   }
  },
  {
   "cell_type": "code",
   "execution_count": null,
   "source": [
    "#num_nodes=240000, avg_node_degree=48, rewire_prob=a changing, initial_outbreak_size=1, threshold = 19\n",
    "rewire_list = []\n",
    "for i in range(21):\n",
    "    rewire_list.append(round((i*0.05),3))\n",
    "#rewire_list = [0, 0.1, 0.2, 0.3]\n",
    "\n",
    "fixed_params = {\"rewire_prob\":0.15,\n",
    "                \"num_nodes\": 80,\n",
    "               \"initial_outbreak_size\" : 1,\n",
    "                \"threshold\" : 2\n",
    "                }\n",
    "variable_params = {\"avg_node_degree\": range(2,20)\n",
    "                  \n",
    "                  }  #  {\"rewire_prob\": range(0.05, 1.0, 0.05)}\n",
    "\n",
    "batch_run = BatchRunner(InfoSpread,\n",
    "                        variable_params,\n",
    "                        fixed_params,\n",
    "                        iterations=5,\n",
    "                        max_steps=10,\n",
    "                        model_reporters={\"infection_list\": infected_list})\n",
    "batch_run.run_all()"
   ],
   "outputs": [],
   "metadata": {
    "jupyter": {
     "source_hidden": true
    }
   }
  },
  {
   "cell_type": "markdown",
   "source": [
    "## 4 - Making a visualization Server (Doesn't work)"
   ],
   "metadata": {}
  },
  {
   "cell_type": "code",
   "execution_count": null,
   "source": [
    "chart = ChartModule([\n",
    "        {\"Label\": \"Infected\", \"Color\": \"#FF0000\"},\n",
    "        {\"Label\": \"Susceptible\", \"Color\": \"#008000\"},\n",
    "        {\"Label\": \"Resistant\", \"Color\": \"#808080\"},\n",
    "    ])\n",
    "\n",
    "server = ModularServer(InfoSpread,\n",
    "                       [ MyTextElement(), chart],\n",
    "                       \"Complex Comtagion Batch Run\")"
   ],
   "outputs": [],
   "metadata": {}
  },
  {
   "cell_type": "code",
   "execution_count": null,
   "source": [
    "server.port = 8521 # The default\n",
    "server.launch()"
   ],
   "outputs": [],
   "metadata": {}
  }
 ],
 "metadata": {
  "kernelspec": {
   "name": "python3",
   "display_name": "Python 3.8.8 64-bit ('base': conda)"
  },
  "language_info": {
   "codemirror_mode": {
    "name": "ipython",
    "version": 3
   },
   "file_extension": ".py",
   "mimetype": "text/x-python",
   "name": "python",
   "nbconvert_exporter": "python",
   "pygments_lexer": "ipython3",
   "version": "3.8.8"
  },
  "interpreter": {
   "hash": "12ea92c6e057358f290158f14cde1803ce24afa5176189045da4b153e2188ab2"
  }
 },
 "nbformat": 4,
 "nbformat_minor": 4
}