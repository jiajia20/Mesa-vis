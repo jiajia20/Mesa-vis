{
 "cells": [
  {
   "cell_type": "markdown",
   "metadata": {},
   "source": [
    "# Overall Planning for Mesa Debugging\n",
    "- 1 [v] understanding the model, learning Mesa\n",
    "- 2 [v] testing batch tun\n",
    "- 3 [v] validating model on Centola paper\n",
    "- 4 [v] categorizing variables, designing interface \n",
    "- 5 [v] testing server and experiment making batch run server\n",
    "- 6 [] implimenting intervention design on the tooling"
   ]
  },
  {
   "cell_type": "markdown",
   "metadata": {},
   "source": [
    "## 1 - Understandng Model and Learning Mesa "
   ]
  },
  {
   "cell_type": "code",
   "execution_count": 20,
   "metadata": {},
   "outputs": [],
   "source": [
    "## model\n",
    "import math\n",
    "import networkx as nx\n",
    "\n",
    "from mesa import Agent, Model        ## This is the model - how agent interact \n",
    "from mesa.time import SimultaneousActivation      #This is the scheduler - how agents are activated\n",
    "from mesa.datacollection import DataCollector     #This output a Pandas file\n",
    "from mesa.space import NetworkGrid        #This means the model runs on  network (high dimentional space)\n",
    "\n",
    "\n",
    "def number_state(model, state):\n",
    "    return sum([a.state == state for a in model.grid.get_all_cell_contents()])\n",
    "\n",
    "\n",
    "def number_infected(model):\n",
    "    return number_state(model, \"infected\")\n",
    "\n",
    "\n",
    "def number_susceptible(model):\n",
    "    return number_state(model, \"susceptible\")\n",
    "\n",
    "\n",
    "def infected_list(model):\n",
    "    return model.datacollector.get_model_vars_dataframe()\n",
    "\n",
    "\n",
    "class InfoSpread(Model):\n",
    "    \"\"\"A virus model with some number of agents\"\"\"\n",
    "\n",
    "    def __init__(self, num_nodes=10, avg_node_degree=3, rewire_prob=.1, initial_outbreak_size=1, threshold = 2,):\n",
    "        self.num_nodes = num_nodes\n",
    "        self.G = nx.watts_strogatz_graph(n=self.num_nodes, k= avg_node_degree, p=rewire_prob)   #G generate graph structure\n",
    "        self.grid = NetworkGrid(self.G) #grid is the Masa native defintion of space: a coorindate with specified topology on which agents sits and interact\n",
    "        self.schedule = SimultaneousActivation(self)\n",
    "        self.initial_outbreak_size = (\n",
    "            initial_outbreak_size if initial_outbreak_size <= num_nodes else num_nodes\n",
    "        )\n",
    "\n",
    "        self.datacollector = DataCollector(\n",
    "            {\n",
    "                \"Infected\": number_infected,\n",
    "                \"Susceptible\": number_susceptible,\n",
    "            }\n",
    "        )\n",
    "\n",
    "        # Create agents\n",
    "        for i, node in enumerate(self.G.nodes()):\n",
    "            a = User(\n",
    "                i,\n",
    "                self,\n",
    "                \"susceptible\",\n",
    "                threshold\n",
    "            )\n",
    "            self.schedule.add(a)\n",
    "            # Add the agent to the node\n",
    "            self.grid.place_agent(a, node)\n",
    "\n",
    "        # Infect some nodes\n",
    "        infected_nodes = self.random.sample(self.G.nodes(), self.initial_outbreak_size)\n",
    "        for a in self.grid.get_cell_list_contents(infected_nodes):\n",
    "            a.state = \"infected\"\n",
    "            neighbors_nodes = self.grid.get_neighbors(a.pos)\n",
    "            for n in self.grid.get_cell_list_contents(neighbors_nodes):\n",
    "                n.state = 'infected'\n",
    "\n",
    "        self.running = True\n",
    "        self.datacollector.collect(self)\n",
    "\n",
    "    def proportion_infected(self):\n",
    "        try:\n",
    "            return number_state(self, \"infected\") / self.num_nodes\n",
    "        except ZeroDivisionError:\n",
    "            return math.inf\n",
    "\n",
    "    def step(self):\n",
    "        self.schedule.step()    #this model updates with symoutanous schedule, meaning, \n",
    "        # collect data\n",
    "        self.datacollector.collect(self)\n",
    "\n",
    "    def run_model(self, n):\n",
    "        ''' could experiment terminating model here too'''\n",
    "        for i in range(n):\n",
    "            self.step()\n",
    "\n",
    "\n",
    "class User(Agent):\n",
    "    def __init__(self, unique_id, model, initial_state, threshold):\n",
    "        super().__init__(unique_id, model)   #super(). is to inherent agent's property. The user class is a subset of the agent class with additional properties. All the papermeter here are inherited from orginial agent class, everything is new and specific to the user class\n",
    "        self.state = initial_state\n",
    "        self.threshold = threshold\n",
    "\n",
    "\n",
    "    def get_infected_neighbor_count(self):\n",
    "        '''Count how many of neighbors are infected'''\n",
    "        neighbors_nodes = self.model.grid.get_neighbors(self.pos, include_center=False)\n",
    "        infected_neighbors = 0\n",
    "        for n in self.model.grid.get_cell_list_contents(neighbors_nodes):\n",
    "            if n.state == 'infected':   \n",
    "                infected_neighbors += 1\n",
    "        return infected_neighbors\n",
    "\n",
    "    def step(self):\n",
    "        '''Calculates what the state should be in the next step'''\n",
    "        # Start as the current state and modify below\n",
    "        self._next_state = self.state\n",
    "        if self.state == 'susceptible':\n",
    "            infected_neighbors = self.get_infected_neighbor_count()\n",
    "            if infected_neighbors >= self.threshold:\n",
    "                self._next_state = 'infected'\n",
    "\n",
    "    def advance(self):\n",
    "        self.state = self._next_state\n"
   ]
  },
  {
   "cell_type": "markdown",
   "metadata": {},
   "source": [
    "## 2 - Testing Batch Run\n",
    "### 2.1 Batch run improvements\n",
    "These are additional functions to process th PANDAS document\n",
    "- calculating the infection time (measured in steps it takes)\n",
    "- calculating the infection percentage"
   ]
  },
  {
   "cell_type": "code",
   "execution_count": 4,
   "metadata": {},
   "outputs": [],
   "source": [
    "# Find the time it needed to infect the whole/part network\n",
    "def find_last_increase (a):\n",
    "    i = 0\n",
    "    for i in range(len(a)-2):\n",
    "        if a[i] != a[i+1]:\n",
    "            i += 1\n",
    "        else:\n",
    "            return(i+1)\n",
    "    return(i+1)\n",
    "\n",
    "def calculate_infection_time(df):\n",
    "    time = []\n",
    "    for i in range(df.shape[0]):\n",
    "        inf_data = df['infection_list'][i]['Infected'].values.tolist()\n",
    "        infection_time = find_last_increase(inf_data)\n",
    "        time.append(infection_time)\n",
    "    return(time)"
   ]
  },
  {
   "cell_type": "code",
   "execution_count": 5,
   "metadata": {},
   "outputs": [],
   "source": [
    "#calculate percentage of infection\n",
    "def find__final_infection_number (a):\n",
    "    i = 0\n",
    "    for i in range(len(a)-2):\n",
    "        if a[i] != a[i+1]:\n",
    "            i += 1\n",
    "        else:\n",
    "            return(a[i+1])\n",
    "    return(a[i+1])\n",
    "\n",
    "def calculate_total_infection(df):\n",
    "    total_inf = []\n",
    "    for i in range(df.shape[0]):\n",
    "        inf_data = df['infection_list'][i]['Infected'].values.tolist()\n",
    "        infection_num = find__final_infection_number(inf_data)\n",
    "        total_inf.append(infection_num)\n",
    "    return(total_inf)"
   ]
  },
  {
   "cell_type": "markdown",
   "metadata": {},
   "source": [
    "### 2.2 Testing Batch Run with different average neighbors"
   ]
  },
  {
   "cell_type": "code",
   "execution_count": 3,
   "metadata": {},
   "outputs": [
    {
     "name": "stderr",
     "output_type": "stream",
     "text": [
      "<ipython-input-2-afaef7403751>:59: DeprecationWarning: Sampling from a set deprecated\n",
      "since Python 3.9 and will be removed in a subsequent version.\n",
      "  infected_nodes = self.random.sample(self.G.nodes(), self.initial_outbreak_size)\n"
     ]
    }
   ],
   "source": [
    "model = InfoSpread (num_nodes=10, avg_node_degree=3, rewire_prob=.1, initial_outbreak_size=1, threshold = 2,)\n",
    "#num_nodes=10, avg_node_degree=3, rewire_prob=.1, initial_outbreak_size=1, threshold = 2\n",
    "for i in range(100):\n",
    "    model.step()"
   ]
  },
  {
   "cell_type": "code",
   "execution_count": 4,
   "metadata": {},
   "outputs": [
    {
     "name": "stderr",
     "output_type": "stream",
     "text": [
      "<ipython-input-2-afaef7403751>:59: DeprecationWarning: Sampling from a set deprecated\n",
      "since Python 3.9 and will be removed in a subsequent version.\n",
      "  infected_nodes = self.random.sample(self.G.nodes(), self.initial_outbreak_size)\n"
     ]
    }
   ],
   "source": [
    "model = InfoSpread (num_nodes=10, avg_node_degree=3, rewire_prob=.1, initial_outbreak_size=1, threshold = 2,)\n",
    "total_inf = [-1, 0] #buffer item\n",
    "total_inf.append(number_infected(model))\n",
    "while( total_inf[len(total_inf)-1] != total_inf[len(total_inf)-2] ):\n",
    "    model.step()\n",
    "    total_inf.append(number_infected(model))"
   ]
  },
  {
   "cell_type": "code",
   "execution_count": 5,
   "metadata": {},
   "outputs": [
    {
     "data": {
      "text/html": [
       "<div>\n",
       "<style scoped>\n",
       "    .dataframe tbody tr th:only-of-type {\n",
       "        vertical-align: middle;\n",
       "    }\n",
       "\n",
       "    .dataframe tbody tr th {\n",
       "        vertical-align: top;\n",
       "    }\n",
       "\n",
       "    .dataframe thead th {\n",
       "        text-align: right;\n",
       "    }\n",
       "</style>\n",
       "<table border=\"1\" class=\"dataframe\">\n",
       "  <thead>\n",
       "    <tr style=\"text-align: right;\">\n",
       "      <th></th>\n",
       "      <th>Infected</th>\n",
       "      <th>Susceptible</th>\n",
       "    </tr>\n",
       "  </thead>\n",
       "  <tbody>\n",
       "    <tr>\n",
       "      <th>0</th>\n",
       "      <td>3</td>\n",
       "      <td>7</td>\n",
       "    </tr>\n",
       "    <tr>\n",
       "      <th>1</th>\n",
       "      <td>3</td>\n",
       "      <td>7</td>\n",
       "    </tr>\n",
       "  </tbody>\n",
       "</table>\n",
       "</div>"
      ],
      "text/plain": [
       "   Infected  Susceptible\n",
       "0         3            7\n",
       "1         3            7"
      ]
     },
     "execution_count": 5,
     "metadata": {},
     "output_type": "execute_result"
    }
   ],
   "source": [
    "df = model.datacollector.get_model_vars_dataframe()\n",
    "df"
   ]
  },
  {
   "cell_type": "code",
   "execution_count": 63,
   "metadata": {},
   "outputs": [
    {
     "name": "stderr",
     "output_type": "stream",
     "text": [
      "0it [00:00, ?it/s]<ipython-input-2-afaef7403751>:59: DeprecationWarning: Sampling from a set deprecated\n",
      "since Python 3.9 and will be removed in a subsequent version.\n",
      "  infected_nodes = self.random.sample(self.G.nodes(), self.initial_outbreak_size)\n",
      "90it [00:01, 59.13it/s]\n"
     ]
    }
   ],
   "source": [
    "#num_nodes=10, avg_node_degree=3, rewire_prob=.1, initial_outbreak_size=1, threshold = 2\n",
    "rewire_list = []\n",
    "for i in range(21):\n",
    "    rewire_list.append(round((i*0.05),3))\n",
    "#rewire_list = [0, 0.1, 0.2, 0.3]\n",
    "\n",
    "fixed_params = {\"rewire_prob\":0.15,\n",
    "                \"num_nodes\": 80,\n",
    "               \"initial_outbreak_size\" : 1,\n",
    "                \"threshold\" : 2\n",
    "                }\n",
    "variable_params = {\"avg_node_degree\": range(2,20)\n",
    "                  \n",
    "                  }  #  {\"rewire_prob\": range(0.05, 1.0, 0.05)}\n",
    "\n",
    "batch_run = BatchRunner(InfoSpread,\n",
    "                        variable_params,\n",
    "                        fixed_params,\n",
    "                        iterations=5,\n",
    "                        max_steps=10,\n",
    "                        model_reporters={\"infection_list\": infected_list})\n",
    "batch_run.run_all()"
   ]
  },
  {
   "cell_type": "code",
   "execution_count": 42,
   "metadata": {},
   "outputs": [],
   "source": [
    "run_data = batch_run.get_model_vars_dataframe()"
   ]
  },
  {
   "cell_type": "code",
   "execution_count": 75,
   "metadata": {},
   "outputs": [
    {
     "data": {
      "image/png": "[encoded data removed]",
      "text/plain": [
       "<Figure size 432x288 with 1 Axes>"
      ]
     },
     "metadata": {
      "needs_background": "light"
     },
     "output_type": "display_data"
    }
   ],
   "source": [
    "x = run_data['avg_node_degree'].values.tolist()\n",
    "time = calculate_infection_time(run_data)\n",
    "plt.plot(x,time,'o', color = '#3CAEA3', alpha = 0.3)\n",
    "plt.xlabel(\"average node degree\")\n",
    "plt.ylabel(\"steps to infect network\")\n",
    "plt.title(\"control rewire prob = 0.15, treshoud = 2, outbreak size = 2,\")\n",
    "plt.xticks(x)\n",
    "plt.show()"
   ]
  },
  {
   "cell_type": "code",
   "execution_count": 76,
   "metadata": {},
   "outputs": [
    {
     "data": {
      "image/png": "[encoded data removed]",
      "text/plain": [
       "<Figure size 432x288 with 1 Axes>"
      ]
     },
     "metadata": {
      "needs_background": "light"
     },
     "output_type": "display_data"
    }
   ],
   "source": [
    "x = run_data['avg_node_degree'].values.tolist()\n",
    "inf = calculate_total_infection(run_data)\n",
    "plt.plot(x,inf,'o', color = '#3CAEA3', alpha = 0.3)\n",
    "plt.xlabel(\"average node degree\")\n",
    "plt.ylabel(\"total infection\")\n",
    "plt.title(\"control rewire prob = 0.15, treshoud = 2, outbreak size = 2,\")\n",
    "plt.xticks(x)\n",
    "plt.show()"
   ]
  },
  {
   "cell_type": "markdown",
   "metadata": {},
   "source": [
    "### 2.3 Testing batch run with changing rewireing factor"
   ]
  },
  {
   "cell_type": "code",
   "execution_count": 79,
   "metadata": {},
   "outputs": [
    {
     "name": "stderr",
     "output_type": "stream",
     "text": [
      "0it [00:00, ?it/s]<ipython-input-2-afaef7403751>:59: DeprecationWarning: Sampling from a set deprecated\n",
      "since Python 3.9 and will be removed in a subsequent version.\n",
      "  infected_nodes = self.random.sample(self.G.nodes(), self.initial_outbreak_size)\n",
      "105it [00:01, 61.51it/s]\n"
     ]
    }
   ],
   "source": [
    "#batch running test 2\n",
    "from mesa.batchrunner import BatchRunner\n",
    "\n",
    "#num_nodes=10, avg_node_degree=3, rewire_prob=.1, initial_outbreak_size=1, threshold = 2\n",
    "rewire_list = []\n",
    "for i in range(21):\n",
    "    rewire_list.append(round((i*0.05),3))\n",
    "#rewire_list = [0, 0.1, 0.2, 0.3]\n",
    "\n",
    "fixed_params = {\"num_nodes\": 80,\n",
    "               \"avg_node_degree\": 8,\n",
    "               \"initial_outbreak_size\" : 1,\n",
    "               \"threshold\" : 2}\n",
    "variable_params = {\"rewire_prob\": rewire_list}  #  {\"rewire_prob\": drange(0.05, 1.0, 0.05)}\n",
    "\n",
    "batch_run = BatchRunner(InfoSpread,\n",
    "                        variable_params,\n",
    "                        fixed_params,\n",
    "                        iterations=5,\n",
    "                        max_steps=10,\n",
    "                        model_reporters={\"infection_list\": infected_list})\n",
    "batch_run.run_all()"
   ]
  },
  {
   "cell_type": "code",
   "execution_count": 80,
   "metadata": {},
   "outputs": [],
   "source": [
    "run_data = batch_run.get_model_vars_dataframe()\n",
    "#run_data"
   ]
  },
  {
   "cell_type": "code",
   "execution_count": 82,
   "metadata": {},
   "outputs": [],
   "source": [
    "import matplotlib.pyplot as plt\n",
    "import numpy"
   ]
  },
  {
   "cell_type": "code",
   "execution_count": 83,
   "metadata": {},
   "outputs": [
    {
     "data": {
      "text/plain": [
       "[<matplotlib.lines.Line2D at 0x124288340>]"
      ]
     },
     "execution_count": 83,
     "metadata": {},
     "output_type": "execute_result"
    },
    {
     "data": {
      "image/png": "[encoded data removed]",
      "text/plain": [
       "<Figure size 432x288 with 1 Axes>"
      ]
     },
     "metadata": {
      "needs_background": "light"
     },
     "output_type": "display_data"
    }
   ],
   "source": [
    "\n",
    "x = run_data['rewire_prob'].values.tolist()\n",
    "time = calculate_infection_time(run_data)\n",
    "plt.plot(x,time,'o', color = '#3CAEA3',alpha = 0.3)"
   ]
  },
  {
   "cell_type": "code",
   "execution_count": 84,
   "metadata": {},
   "outputs": [
    {
     "data": {
      "text/plain": [
       "[<matplotlib.lines.Line2D at 0x123948a00>]"
      ]
     },
     "execution_count": 84,
     "metadata": {},
     "output_type": "execute_result"
    },
    {
     "data": {
      "image/png": "[encoded data removed]",
      "text/plain": [
       "<Figure size 432x288 with 1 Axes>"
      ]
     },
     "metadata": {
      "needs_background": "light"
     },
     "output_type": "display_data"
    }
   ],
   "source": [
    "inf = calculate_total_infection(run_data)\n",
    "plt.plot(x,inf,'o', color = '#ED553B', alpha = 0.3)"
   ]
  },
  {
   "cell_type": "markdown",
   "metadata": {},
   "source": [
    "### 3 - Centola Replication"
   ]
  },
  {
   "cell_type": "code",
   "execution_count": 6,
   "metadata": {
    "jupyter": {
     "source_hidden": true
    }
   },
   "outputs": [],
   "source": [
    "from mesa.batchrunner import BatchRunner"
   ]
  },
  {
   "cell_type": "code",
   "execution_count": 7,
   "metadata": {
    "jupyter": {
     "source_hidden": true
    }
   },
   "outputs": [
    {
     "name": "stderr",
     "output_type": "stream",
     "text": [
      "0it [00:00, ?it/s]<ipython-input-3-afaef7403751>:59: DeprecationWarning: Sampling from a set deprecated\n",
      "since Python 3.9 and will be removed in a subsequent version.\n",
      "  infected_nodes = self.random.sample(self.G.nodes(), self.initial_outbreak_size)\n",
      "7it [00:00, 56.09it/s]\n"
     ]
    }
   ],
   "source": [
    "#num_nodes=40000, avg_node_degree=8, rewire_prob=a changing, initial_outbreak_size=1, threshold = 3\n",
    "rewire_list = []\n",
    "for i in range(201):\n",
    "    rewire_list.append(round((i*0.005),4))\n",
    "\n",
    "fixed_params = {\"avg_node_degree\":8,\n",
    "                \"num_nodes\": 40,\n",
    "               \"initial_outbreak_size\" : 1,\n",
    "                \"threshold\" : 3\n",
    "                }\n",
    "variable_params = {\n",
    "                      \"rewire_prob\": [0.000001, 0.00001,0.0001,0.001,0.01,0.1,1]\n",
    "                  }  #  {\"rewire_prob\": range(0.05, 1.0, 0.05)}\n",
    "\n",
    "batch_run = BatchRunner(InfoSpread,\n",
    "                        variable_params,\n",
    "                        fixed_params,\n",
    "                        iterations=1,\n",
    "                        max_steps=10,\n",
    "                        model_reporters={\"infection_list\": infected_list})\n",
    "batch_run.run_all()"
   ]
  },
  {
   "cell_type": "code",
   "execution_count": 9,
   "metadata": {
    "jupyter": {
     "source_hidden": true
    }
   },
   "outputs": [
    {
     "data": {
      "text/html": [
       "<div>\n",
       "<style scoped>\n",
       "    .dataframe tbody tr th:only-of-type {\n",
       "        vertical-align: middle;\n",
       "    }\n",
       "\n",
       "    .dataframe tbody tr th {\n",
       "        vertical-align: top;\n",
       "    }\n",
       "\n",
       "    .dataframe thead th {\n",
       "        text-align: right;\n",
       "    }\n",
       "</style>\n",
       "<table border=\"1\" class=\"dataframe\">\n",
       "  <thead>\n",
       "    <tr style=\"text-align: right;\">\n",
       "      <th></th>\n",
       "      <th>rewire_prob</th>\n",
       "      <th>Run</th>\n",
       "      <th>infection_list</th>\n",
       "      <th>avg_node_degree</th>\n",
       "      <th>num_nodes</th>\n",
       "      <th>initial_outbreak_size</th>\n",
       "      <th>threshold</th>\n",
       "    </tr>\n",
       "  </thead>\n",
       "  <tbody>\n",
       "    <tr>\n",
       "      <th>0</th>\n",
       "      <td>0.000001</td>\n",
       "      <td>0</td>\n",
       "      <td>Infected  Susceptible\n",
       "0          9        ...</td>\n",
       "      <td>8</td>\n",
       "      <td>40</td>\n",
       "      <td>1</td>\n",
       "      <td>3</td>\n",
       "    </tr>\n",
       "    <tr>\n",
       "      <th>1</th>\n",
       "      <td>0.000010</td>\n",
       "      <td>1</td>\n",
       "      <td>Infected  Susceptible\n",
       "0          9        ...</td>\n",
       "      <td>8</td>\n",
       "      <td>40</td>\n",
       "      <td>1</td>\n",
       "      <td>3</td>\n",
       "    </tr>\n",
       "    <tr>\n",
       "      <th>2</th>\n",
       "      <td>0.000100</td>\n",
       "      <td>2</td>\n",
       "      <td>Infected  Susceptible\n",
       "0          9        ...</td>\n",
       "      <td>8</td>\n",
       "      <td>40</td>\n",
       "      <td>1</td>\n",
       "      <td>3</td>\n",
       "    </tr>\n",
       "    <tr>\n",
       "      <th>3</th>\n",
       "      <td>0.001000</td>\n",
       "      <td>3</td>\n",
       "      <td>Infected  Susceptible\n",
       "0          9        ...</td>\n",
       "      <td>8</td>\n",
       "      <td>40</td>\n",
       "      <td>1</td>\n",
       "      <td>3</td>\n",
       "    </tr>\n",
       "    <tr>\n",
       "      <th>4</th>\n",
       "      <td>0.010000</td>\n",
       "      <td>4</td>\n",
       "      <td>Infected  Susceptible\n",
       "0          9        ...</td>\n",
       "      <td>8</td>\n",
       "      <td>40</td>\n",
       "      <td>1</td>\n",
       "      <td>3</td>\n",
       "    </tr>\n",
       "    <tr>\n",
       "      <th>5</th>\n",
       "      <td>0.100000</td>\n",
       "      <td>5</td>\n",
       "      <td>Infected  Susceptible\n",
       "0          9        ...</td>\n",
       "      <td>8</td>\n",
       "      <td>40</td>\n",
       "      <td>1</td>\n",
       "      <td>3</td>\n",
       "    </tr>\n",
       "    <tr>\n",
       "      <th>6</th>\n",
       "      <td>1.000000</td>\n",
       "      <td>6</td>\n",
       "      <td>Infected  Susceptible\n",
       "0         12        ...</td>\n",
       "      <td>8</td>\n",
       "      <td>40</td>\n",
       "      <td>1</td>\n",
       "      <td>3</td>\n",
       "    </tr>\n",
       "  </tbody>\n",
       "</table>\n",
       "</div>"
      ],
      "text/plain": [
       "   rewire_prob  Run                                     infection_list  \\\n",
       "0     0.000001    0      Infected  Susceptible\n",
       "0          9        ...   \n",
       "1     0.000010    1      Infected  Susceptible\n",
       "0          9        ...   \n",
       "2     0.000100    2      Infected  Susceptible\n",
       "0          9        ...   \n",
       "3     0.001000    3      Infected  Susceptible\n",
       "0          9        ...   \n",
       "4     0.010000    4      Infected  Susceptible\n",
       "0          9        ...   \n",
       "5     0.100000    5      Infected  Susceptible\n",
       "0          9        ...   \n",
       "6     1.000000    6      Infected  Susceptible\n",
       "0         12        ...   \n",
       "\n",
       "   avg_node_degree  num_nodes  initial_outbreak_size  threshold  \n",
       "0                8         40                      1          3  \n",
       "1                8         40                      1          3  \n",
       "2                8         40                      1          3  \n",
       "3                8         40                      1          3  \n",
       "4                8         40                      1          3  \n",
       "5                8         40                      1          3  \n",
       "6                8         40                      1          3  "
      ]
     },
     "execution_count": 9,
     "metadata": {},
     "output_type": "execute_result"
    }
   ],
   "source": [
    "run_data = batch_run.get_model_vars_dataframe()\n",
    "run_data"
   ]
  },
  {
   "cell_type": "code",
   "execution_count": 14,
   "metadata": {
    "jupyter": {
     "source_hidden": true
    }
   },
   "outputs": [],
   "source": [
    "time = calculate_infection_time(run_data)"
   ]
  },
  {
   "cell_type": "code",
   "execution_count": 15,
   "metadata": {
    "jupyter": {
     "source_hidden": true
    }
   },
   "outputs": [
    {
     "data": {
      "text/plain": [
       "[9, 9, 9, 9, 9, 9, 4]"
      ]
     },
     "execution_count": 15,
     "metadata": {},
     "output_type": "execute_result"
    }
   ],
   "source": [
    "time"
   ]
  },
  {
   "cell_type": "code",
   "execution_count": 17,
   "metadata": {
    "jupyter": {
     "source_hidden": true
    }
   },
   "outputs": [
    {
     "data": {
      "image/png": "[encoded data removed]",
      "text/plain": [
       "<Figure size 432x288 with 1 Axes>"
      ]
     },
     "metadata": {
      "needs_background": "light"
     },
     "output_type": "display_data"
    }
   ],
   "source": [
    "plt.plot(run_data.rewire_prob,time,'o', color = '#3CAEA3', alpha = 0.3)\n",
    "plt.xscale('log')\n",
    "plt.show()"
   ]
  },
  {
   "cell_type": "code",
   "execution_count": 10,
   "metadata": {
    "jupyter": {
     "source_hidden": true
    }
   },
   "outputs": [],
   "source": [
    "import matplotlib.pyplot as plt"
   ]
  },
  {
   "cell_type": "code",
   "execution_count": 19,
   "metadata": {
    "jupyter": {
     "source_hidden": true
    }
   },
   "outputs": [
    {
     "data": {
      "image/png": "[encoded data removed]",
      "text/plain": [
       "<Figure size 432x288 with 1 Axes>"
      ]
     },
     "metadata": {
      "needs_background": "light"
     },
     "output_type": "display_data"
    }
   ],
   "source": [
    "x = run_data.rewire_prob\n",
    "time = calculate_infection_time(run_data)\n",
    "plt.plot(x,time,'o', color = '#3CAEA3', alpha = 0.3)\n",
    "plt.xlabel(\"rewiring probability\")\n",
    "plt.ylabel(\"steps to infect network\")\n",
    "plt.title(\"40 agents, 8 avergae neighbors, 3 treshold\")\n",
    "plt.xticks(x)\n",
    "plt.xscale('log')\n",
    "plt.show()"
   ]
  },
  {
   "cell_type": "code",
   "execution_count": 23,
   "metadata": {
    "jupyter": {
     "source_hidden": true
    }
   },
   "outputs": [
    {
     "data": {
      "image/png": "[encoded data removed]",
      "text/plain": [
       "<Figure size 432x288 with 1 Axes>"
      ]
     },
     "metadata": {
      "needs_background": "light"
     },
     "output_type": "display_data"
    }
   ],
   "source": [
    "x = run_data['rewire_prob'].values.tolist()\n",
    "inf = calculate_total_infection(run_data)\n",
    "plt.plot(x,inf,'o', color = '#3CAEA3', alpha = 0.3)\n",
    "plt.xlabel(\"average node degree\")\n",
    "plt.ylabel(\"total infection\")\n",
    "plt.title(\"control rewire prob = 0.15, treshoud = 2, outbreak size = 2,\")\n",
    "plt.xticks(x)\n",
    "plt.xscale('log')\n",
    "plt.show()"
   ]
  },
  {
   "cell_type": "code",
   "execution_count": null,
   "metadata": {
    "jupyter": {
     "source_hidden": true
    }
   },
   "outputs": [],
   "source": [
    "#num_nodes=240000, avg_node_degree=48, rewire_prob=a changing, initial_outbreak_size=1, threshold = 19\n",
    "rewire_list = []\n",
    "for i in range(21):\n",
    "    rewire_list.append(round((i*0.05),3))\n",
    "#rewire_list = [0, 0.1, 0.2, 0.3]\n",
    "\n",
    "fixed_params = {\"rewire_prob\":0.15,\n",
    "                \"num_nodes\": 80,\n",
    "               \"initial_outbreak_size\" : 1,\n",
    "                \"threshold\" : 2\n",
    "                }\n",
    "variable_params = {\"avg_node_degree\": range(2,20)\n",
    "                  \n",
    "                  }  #  {\"rewire_prob\": range(0.05, 1.0, 0.05)}\n",
    "\n",
    "batch_run = BatchRunner(InfoSpread,\n",
    "                        variable_params,\n",
    "                        fixed_params,\n",
    "                        iterations=5,\n",
    "                        max_steps=10,\n",
    "                        model_reporters={\"infection_list\": infected_list})\n",
    "batch_run.run_all()"
   ]
  },
  {
   "cell_type": "markdown",
   "metadata": {},
   "source": [
    "## 4 & 5 Defining variables, design and experiment with server"
   ]
  },
  {
   "cell_type": "markdown",
   "metadata": {},
   "source": [
    "### 5.1 Server"
   ]
  },
  {
   "cell_type": "code",
   "execution_count": 4,
   "metadata": {
    "jupyter": {
     "source_hidden": true
    }
   },
   "outputs": [
    {
     "name": "stderr",
     "output_type": "stream",
     "text": [
      "<ipython-input-1-439a7ac5e84d>:55: DeprecationWarning: Sampling from a set deprecated\n",
      "since Python 3.9 and will be removed in a subsequent version.\n",
      "  infected_nodes = self.random.sample(self.G.nodes(), self.initial_outbreak_size)\n"
     ]
    }
   ],
   "source": [
    "import math\n",
    "\n",
    "from mesa.visualization.ModularVisualization import ModularServer\n",
    "from mesa.visualization.UserParam import UserSettableParameter\n",
    "from mesa.visualization.modules import ChartModule\n",
    "from mesa.visualization.modules import NetworkModule\n",
    "from mesa.visualization.modules import TextElement\n",
    "# from .model import InfoSpread, number_infected\n",
    "\n",
    "\n",
    "def network_portrayal(G):\n",
    "    # The model ensures there is always 1 agent per node\n",
    "\n",
    "    def node_color(agent):\n",
    "        if agent.state == \"infected\":\n",
    "            return \"#FF0000\"\n",
    "        elif agent.state == 'susceptible':\n",
    "            return \"#008000\"\n",
    "\n",
    "    def edge_color(agent1, agent2):\n",
    "        if \"resistant\" in (agent1.state, agent2.state):\n",
    "            return \"#000000\"\n",
    "        return \"#e8e8e8\"\n",
    "\n",
    "    def edge_width(agent1, agent2):\n",
    "        if \"resistant\" in (agent1.state, agent2.state):\n",
    "            return 3\n",
    "        return 2\n",
    "\n",
    "    def get_agents(source, target):\n",
    "        return G.nodes[source][\"agent\"][0], G.nodes[target][\"agent\"][0]\n",
    "\n",
    "    portrayal = dict()\n",
    "    portrayal[\"nodes\"] = [\n",
    "        {\n",
    "            \"size\": 6,\n",
    "            \"color\": node_color(agents[0]),\n",
    "            \"tooltip\": \"id: {}<br>state: {}\".format(\n",
    "                agents[0].unique_id, agents[0].state\n",
    "            ),\n",
    "        }\n",
    "        for (_, agents) in G.nodes.data(\"agent\")\n",
    "    ]\n",
    "\n",
    "    portrayal[\"edges\"] = [\n",
    "        {\n",
    "            \"source\": source,\n",
    "            \"target\": target,\n",
    "            \"color\": edge_color(*get_agents(source, target)),\n",
    "            \"width\": edge_width(*get_agents(source, target)),\n",
    "        }\n",
    "        for (source, target) in G.edges\n",
    "    ]\n",
    "\n",
    "    return portrayal\n",
    "\n",
    "\n",
    "network = NetworkModule(network_portrayal, 500, 500, library=\"d3\")\n",
    "chart = ChartModule(\n",
    "    [\n",
    "        {\"Label\": \"Infected\", \"Color\": \"#FF0000\"},\n",
    "        {\"Label\": \"Susceptible\", \"Color\": \"#008000\"},\n",
    "        {\"Label\": \"Resistant\", \"Color\": \"#808080\"},\n",
    "    ]\n",
    ")\n",
    "\n",
    "\n",
    "class MyTextElement(TextElement):\n",
    "    def render(self, model):\n",
    "        ratio = model.proportion_infected()\n",
    "        ratio_text = \"&infin;\" if ratio is math.inf else \"{0:.2f}\".format(ratio)\n",
    "        infected_text = number_infected(model)\n",
    "\n",
    "        return \"Proportion Infected: {}<br>Infected: {}\".format(\n",
    "            ratio_text, infected_text\n",
    "        )\n",
    "\n",
    "\n",
    "model_params = {\n",
    "    \"num_nodes\": UserSettableParameter(\n",
    "        \"slider\",\n",
    "        \"Number of agents\",\n",
    "        10,\n",
    "        10,\n",
    "        100,\n",
    "        1,\n",
    "        description=\"Choose how many agents to include in the model\",\n",
    "    ),\n",
    "    \n",
    "    \"avg_node_degree\": UserSettableParameter(\n",
    "        \"slider\", \"Avg Node Degree\", 4, 2, 8, 2, description=\"Avg Node Degree\"\n",
    "    ),\n",
    "    \n",
    "    \"rewire_prob\": UserSettableParameter(\n",
    "        \"slider\",\n",
    "        \"Rewire Probability\",\n",
    "        .1,\n",
    "        0,\n",
    "        1,\n",
    "        .05,\n",
    "        description = \"Rewire probability\"),\n",
    "    \n",
    "    \"initial_outbreak_size\": UserSettableParameter(\n",
    "        \"slider\",\n",
    "        \"Initial Outbreak Size\",\n",
    "        1,\n",
    "        1,\n",
    "        5,\n",
    "        1,\n",
    "        description=\"Initial Outbreak Size\",\n",
    "    ),\n",
    "    \"threshold\": UserSettableParameter(\n",
    "        \"slider\",\n",
    "        \"Neighbor Threshold\",\n",
    "        2,\n",
    "        1,\n",
    "        5,\n",
    "        1,\n",
    "        description=\"Neighbor Threshold\",\n",
    "    )\n",
    "}\n",
    "\n",
    "server = ModularServer(\n",
    "    InfoSpread, [network, MyTextElement(), chart], \"Complex Contagion Model\", model_params\n",
    ")\n",
    "server.port = 8521\n",
    "\n"
   ]
  },
  {
   "cell_type": "code",
   "execution_count": 38,
   "metadata": {},
   "outputs": [],
   "source": [
    "#testing visualizing charts in a server\n",
    "from mesa.visualization.modules import ChartModule\n",
    "from mesa.visualization.ModularVisualization import ModularServer\n",
    "from model import InfoSpread, number_infected\n",
    "from mesa.visualization.modules import TextElement\n",
    "\n",
    "\n"
   ]
  },
  {
   "cell_type": "code",
   "execution_count": 39,
   "metadata": {},
   "outputs": [],
   "source": [
    "class MyTextElement(TextElement):\n",
    "    def render(self, model):\n",
    "        ratio = model.proportion_infected()\n",
    "        ratio_text = \"&infin;\" if ratio is math.inf else \"{0:.2f}\".format(ratio)\n",
    "        infected_text = number_infected(model)\n",
    "\n",
    "        return \"Proportion Infected: {}<br>Infected: {}\".format(\n",
    "            ratio_text, infected_text\n",
    "        )"
   ]
  },
  {
   "cell_type": "code",
   "execution_count": 43,
   "metadata": {},
   "outputs": [],
   "source": [
    "chart = ChartModule([\n",
    "        {\"Label\": \"Infected\", \"Color\": \"#FF0000\"},\n",
    "        {\"Label\": \"Susceptible\", \"Color\": \"#008000\"},\n",
    "        {\"Label\": \"Resistant\", \"Color\": \"#808080\"},\n",
    "    ])\n",
    "\n",
    "server = ModularServer(InfoSpread,\n",
    "                       [ MyTextElement(), chart],\n",
    "                       \"Complex Comtagion Batch Run\")"
   ]
  },
  {
   "cell_type": "code",
   "execution_count": null,
   "metadata": {},
   "outputs": [],
   "source": [
    "server.port = 8521 # The default\n",
    "server.launch()"
   ]
  },
  {
   "cell_type": "markdown",
   "metadata": {},
   "source": [
    "## 6 - Impliment one intervention\n"
   ]
  },
  {
   "cell_type": "code",
   "execution_count": null,
   "metadata": {},
   "outputs": [],
   "source": []
  },
  {
   "cell_type": "markdown",
   "metadata": {},
   "source": [
    "## Legacy code"
   ]
  },
  {
   "cell_type": "code",
   "execution_count": null,
   "metadata": {},
   "outputs": [],
   "source": [
    "#define a better range function\n",
    "def drange(x, y, jump):\n",
    "  while x < y:\n",
    "    yield round(float(x),2)\n",
    "    x += jump"
   ]
  }
 ],
 "metadata": {
  "kernelspec": {
   "display_name": "Python 3",
   "language": "python",
   "name": "python3"
  },
  "language_info": {
   "codemirror_mode": {
    "name": "ipython",
    "version": 3
   },
   "file_extension": ".py",
   "mimetype": "text/x-python",
   "name": "python",
   "nbconvert_exporter": "python",
   "pygments_lexer": "ipython3",
   "version": "3.9.1"
  }
 },
 "nbformat": 4,
 "nbformat_minor": 4
}
